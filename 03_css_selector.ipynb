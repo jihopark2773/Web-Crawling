{
 "cells": [
  {
   "cell_type": "markdown",
   "id": "98b3c8cc",
   "metadata": {},
   "source": [
    "### CSS Selector\n",
    "- css는 엘리먼트에 스타일을 적용시킬 때 사용하는 문법\n",
    "- css selector\n",
    "    - id : `#<id_name>`\n",
    "    - class : `.<class_name>`\n",
    "    - tag : `<tag_name>`\n",
    "    - attr : `[key=value]`"
   ]
  },
  {
   "cell_type": "code",
   "execution_count": 10,
   "id": "594cb99e",
   "metadata": {},
   "outputs": [],
   "source": [
    "# id : 한페이지 하나의 id만 사용 가능 : data2 선택 : #d2\n",
    "# class : 엘리먼트를 그룹핑 할 때 사용 : data1, data2 선택 : .data\n",
    "# tag : data4 : span\n",
    "# attr : data1 : [value=\"1\n",
    "# 여러가지 혼합 : p 태그 이면서, n2 클래스를 갖는 엘리먼트 : p .n2"
   ]
  },
  {
   "cell_type": "code",
   "execution_count": 12,
   "id": "f3d45df9",
   "metadata": {},
   "outputs": [
    {
     "data": {
      "text/html": [
       "<p id=\"d1\" class=\"data n1\" value=\"1\">data1</p>\n",
       "<p id=\"d2\" class=\"data n2\" value=\"2\">data2</p>\n",
       "<p id=\"d3\" class=\"n3\">data2</p>\n",
       "<span class=\"n2\">data4</span>\n"
      ],
      "text/plain": [
       "<IPython.core.display.HTML object>"
      ]
     },
     "metadata": {},
     "output_type": "display_data"
    }
   ],
   "source": [
    "%%html\n",
    "<p id=\"d1\" class=\"data n1\" value=\"1\">data1</p>\n",
    "<p id=\"d2\" class=\"data n2\" value=\"2\">data2</p>\n",
    "<p id=\"d3\" class=\"n3\">data2</p>\n",
    "<span class=\"n2\">data4</span>"
   ]
  },
  {
   "cell_type": "code",
   "execution_count": null,
   "id": "e4d9b1c3",
   "metadata": {},
   "outputs": [],
   "source": [
    "# 계층적 구조에서의 css selector\n",
    "# \">\" : 한단계 하위 엘리먼트 중에서 : div.contain > p : inner 1\n",
    "# \" \"  : 모든 하위 엘리먼트 중에서 : div.contain p : inner 1, inner 2"
   ]
  },
  {
   "cell_type": "code",
   "execution_count": 14,
   "id": "e242f529",
   "metadata": {},
   "outputs": [
    {
     "data": {
      "text/html": [
       "<div class=\"contain\">\n",
       "    <p>inner 1</p>\n",
       "    <div class=\"wrapper\">\n",
       "        <p>inner 2</p>\n",
       "    </div>\n",
       "</div>\n"
      ],
      "text/plain": [
       "<IPython.core.display.HTML object>"
      ]
     },
     "metadata": {},
     "output_type": "display_data"
    }
   ],
   "source": [
    "%%html\n",
    "<div class=\"contain\">\n",
    "    <p>inner 1</p>\n",
    "    <div class=\"wrapper\">\n",
    "        <p>inner 2</p>\n",
    "    </div>\n",
    "</div>"
   ]
  },
  {
   "cell_type": "code",
   "execution_count": null,
   "id": "20237efe",
   "metadata": {},
   "outputs": [],
   "source": [
    "# n 번째 엘리먼트 선택\n",
    "# :nth-child(n)\n",
    "# div > p:nth-child(2) : d2\n",
    "# div 태그 아래에 2번째 태그가 p 태그이면 선택"
   ]
  },
  {
   "cell_type": "code",
   "execution_count": 15,
   "id": "6b9fff55",
   "metadata": {},
   "outputs": [
    {
     "data": {
      "text/html": [
       "<div>\n",
       "    <span>d0</span>\n",
       "    <p>d1</p>\n",
       "    <p>d2</p>\n",
       "    <p>d3</p>\n",
       "</div>\n"
      ],
      "text/plain": [
       "<IPython.core.display.HTML object>"
      ]
     },
     "metadata": {},
     "output_type": "display_data"
    }
   ],
   "source": [
    "%%html\n",
    "<div>\n",
    "    <span>d0</span>\n",
    "    <p>d1</p>\n",
    "    <p>d2</p>\n",
    "    <p>d3</p>\n",
    "</div>"
   ]
  }
 ],
 "metadata": {
  "kernelspec": {
   "display_name": "Python 3",
   "language": "python",
   "name": "python3"
  },
  "language_info": {
   "codemirror_mode": {
    "name": "ipython",
    "version": 3
   },
   "file_extension": ".py",
   "mimetype": "text/x-python",
   "name": "python",
   "nbconvert_exporter": "python",
   "pygments_lexer": "ipython3",
   "version": "3.8.8"
  }
 },
 "nbformat": 4,
 "nbformat_minor": 5
}
