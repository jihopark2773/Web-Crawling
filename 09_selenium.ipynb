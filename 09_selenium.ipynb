{
 "cells": [
  {
   "cell_type": "markdown",
   "id": "9932bec8",
   "metadata": {},
   "source": [
    "### Selenium\n",
    "- 웹브라우저를 직접 실행해서 데이터를 수집하는 방법\n",
    "- setting selenium\n",
    "    - pip install selenium\n",
    "    - install chrome\n",
    "    - download chorme driver\n",
    "        - https://chromedriver.chromium.org/downloads\n",
    "        - notebook 파일이 있는 디렉토리로 복사"
   ]
  },
  {
   "cell_type": "code",
   "execution_count": 1,
   "id": "9eccd859",
   "metadata": {},
   "outputs": [
    {
     "name": "stdout",
     "output_type": "stream",
     "text": [
      "Requirement already satisfied: selenium==3.141.0 in c:\\programdata\\anaconda3\\lib\\site-packages (3.141.0)\n",
      "Requirement already satisfied: urllib3 in c:\\programdata\\anaconda3\\lib\\site-packages (from selenium==3.141.0) (1.26.4)\n"
     ]
    }
   ],
   "source": [
    "!pip install selenium==3.141.0\n",
    "from selenium import webdriver"
   ]
  },
  {
   "cell_type": "code",
   "execution_count": 2,
   "id": "d47ac7d0",
   "metadata": {},
   "outputs": [],
   "source": [
    "driver = webdriver.Chrome()"
   ]
  },
  {
   "cell_type": "code",
   "execution_count": 3,
   "id": "319f3599",
   "metadata": {},
   "outputs": [],
   "source": [
    "# 페이지 이동\n",
    "driver.get('https://daum.net')"
   ]
  },
  {
   "cell_type": "code",
   "execution_count": 4,
   "id": "88147886",
   "metadata": {},
   "outputs": [],
   "source": [
    "# 윈도우 사이즈 조절\n",
    "driver.set_window_size(200, 600)"
   ]
  },
  {
   "cell_type": "code",
   "execution_count": 5,
   "id": "36fed5c7",
   "metadata": {},
   "outputs": [],
   "source": [
    "# 자바스크립트 코드 실행\n",
    "driver.execute_script('window.scrollTo(200, 300);')"
   ]
  },
  {
   "cell_type": "code",
   "execution_count": 6,
   "id": "8fa22ebe",
   "metadata": {},
   "outputs": [],
   "source": [
    "# 브라우저 종료\n",
    "driver.quit()"
   ]
  },
  {
   "cell_type": "code",
   "execution_count": 7,
   "id": "881c2bfa",
   "metadata": {},
   "outputs": [],
   "source": [
    "# 네이버 연관검색어 수집"
   ]
  },
  {
   "cell_type": "code",
   "execution_count": 8,
   "id": "ff43b1c3",
   "metadata": {},
   "outputs": [],
   "source": [
    "driver = webdriver.Chrome()"
   ]
  },
  {
   "cell_type": "code",
   "execution_count": 9,
   "id": "f49cde3b",
   "metadata": {},
   "outputs": [],
   "source": [
    "driver.get('https://www.naver.com')"
   ]
  },
  {
   "cell_type": "code",
   "execution_count": 10,
   "id": "0d1ddbf9",
   "metadata": {},
   "outputs": [],
   "source": [
    "# driver.find_element_by_css_selector == select_one()\n",
    "# driver.find_elements_by_css_selector == select()\n",
    "driver.find_element_by_css_selector(\"#query\").send_keys(\"삼성전자\")"
   ]
  },
  {
   "cell_type": "code",
   "execution_count": 11,
   "id": "99493f24",
   "metadata": {},
   "outputs": [],
   "source": [
    "search_btn = driver.find_element_by_css_selector(\"#search_btn\").click()"
   ]
  },
  {
   "cell_type": "code",
   "execution_count": 12,
   "id": "89722bd1",
   "metadata": {},
   "outputs": [
    {
     "data": {
      "text/plain": [
       "10"
      ]
     },
     "execution_count": 12,
     "metadata": {},
     "output_type": "execute_result"
    }
   ],
   "source": [
    "selector = '#nx_right_related_keywords > div > div.related_srch > ul > li'\n",
    "elements = driver.find_elements_by_css_selector(selector)\n",
    "len(elements)"
   ]
  },
  {
   "cell_type": "code",
   "execution_count": 13,
   "id": "93431f3a",
   "metadata": {},
   "outputs": [],
   "source": [
    "element = elements[0]"
   ]
  },
  {
   "cell_type": "code",
   "execution_count": 14,
   "id": "274b7ba7",
   "metadata": {},
   "outputs": [
    {
     "data": {
      "text/plain": [
       "['삼성전자 주가',\n",
       " '삼성전자 주식',\n",
       " '삼성전자 배당금',\n",
       " '삼성전자 배당금 지급일',\n",
       " '삼성전자 채용',\n",
       " '삼성전자 주가 전망',\n",
       " '삼성전자서비스',\n",
       " '',\n",
       " '',\n",
       " '']"
      ]
     },
     "execution_count": 14,
     "metadata": {},
     "output_type": "execute_result"
    }
   ],
   "source": [
    "keywords = [element.text for element in elements]\n",
    "keywords"
   ]
  },
  {
   "cell_type": "markdown",
   "id": "82586d4b",
   "metadata": {},
   "source": [
    "### setting startup file\n",
    "```\n",
    "$ ipython profile create\n",
    "$ cd ~/.ipython/profile_default/startup\n",
    "$ jupyter notebook\n",
    "```"
   ]
  },
  {
   "cell_type": "code",
   "execution_count": null,
   "id": "acdaff2d",
   "metadata": {},
   "outputs": [],
   "source": []
  }
 ],
 "metadata": {
  "kernelspec": {
   "display_name": "Python 3",
   "language": "python",
   "name": "python3"
  },
  "language_info": {
   "codemirror_mode": {
    "name": "ipython",
    "version": 3
   },
   "file_extension": ".py",
   "mimetype": "text/x-python",
   "name": "python",
   "nbconvert_exporter": "python",
   "pygments_lexer": "ipython3",
   "version": "3.8.8"
  }
 },
 "nbformat": 4,
 "nbformat_minor": 5
}
