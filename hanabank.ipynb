{
 "cells": [
  {
   "cell_type": "code",
   "execution_count": null,
   "id": "7e3b3a77",
   "metadata": {},
   "outputs": [],
   "source": [
    "# preview 원하는 정보 안뜨면 동적\n",
    "# preview 원하는 정보 뜨면 정적 >> html >> beautifulsoup 파싱"
   ]
  },
  {
   "cell_type": "code",
   "execution_count": null,
   "id": "f9221e7a",
   "metadata": {},
   "outputs": [],
   "source": [
    "# 1. 웹서비스분석 : URL"
   ]
  },
  {
   "cell_type": "code",
   "execution_count": 1,
   "id": "f6028161",
   "metadata": {},
   "outputs": [],
   "source": [
    "url = 'https://www.kebhana.com/cont/mall/mall08/mall0805/index.jsp?catId=spb_2811'"
   ]
  },
  {
   "cell_type": "code",
   "execution_count": null,
   "id": "3add7b6f",
   "metadata": {},
   "outputs": [],
   "source": [
    "# 2. reqeust(url) > response : data(html, str)"
   ]
  },
  {
   "cell_type": "code",
   "execution_count": 4,
   "id": "b58cc11b",
   "metadata": {},
   "outputs": [
    {
     "data": {
      "text/plain": [
       "<Response [200]>"
      ]
     },
     "execution_count": 4,
     "metadata": {},
     "output_type": "execute_result"
    }
   ],
   "source": [
    "response = requests.get(url)\n",
    "response"
   ]
  },
  {
   "cell_type": "code",
   "execution_count": null,
   "id": "0c29d852",
   "metadata": {},
   "outputs": [],
   "source": [
    "# 3. data(html, str) > bs object > css selector > data(list, dict)"
   ]
  },
  {
   "cell_type": "code",
   "execution_count": 8,
   "id": "a616a876",
   "metadata": {},
   "outputs": [],
   "source": [
    "dom = BeautifulSoup(response.text, \"html.parser\")"
   ]
  },
  {
   "cell_type": "code",
   "execution_count": 14,
   "id": "21996e5d",
   "metadata": {},
   "outputs": [
    {
     "data": {
      "text/plain": [
       "(13, 13)"
      ]
     },
     "execution_count": 14,
     "metadata": {},
     "output_type": "execute_result"
    }
   ],
   "source": [
    "# #contents > div.banking-content > div.banking-row-area > div.wrap-product-list > ul > li:nth-child(2)\n",
    "selector2 = '#contents > div.banking-content > div.banking-row-area > div.wrap-product-list > ul > li'\n",
    "elements2 = dom.select(selector2)\n",
    "\n",
    "elements = dom.select(\"ul.product-list > li.item\")\n",
    "len(elements), len(elements2)"
   ]
  },
  {
   "cell_type": "code",
   "execution_count": 15,
   "id": "c016d7a5",
   "metadata": {},
   "outputs": [],
   "source": [
    "element = elements[0]"
   ]
  },
  {
   "cell_type": "code",
   "execution_count": 36,
   "id": "c806084b",
   "metadata": {},
   "outputs": [
    {
     "data": {
      "text/plain": [
       "{'title': '1년 연동형 정기예금',\n",
       " 'link': 'https://www.kebhana.com//cont/mall/mall08/mall0801/mall080101/1419635_115126.jsp',\n",
       " 'desc': '서울보증보험의 보증서 발급 담보용 정기예금',\n",
       " 'interest_rate': '0.55%'}"
      ]
     },
     "execution_count": 36,
     "metadata": {},
     "output_type": "execute_result"
    }
   ],
   "source": [
    "data = {\n",
    "    \"title\" : element.select_one(\"a\").text,\n",
    "    \"link\" : \"https://www.kebhana.com/\" + element.select_one(\"a\").get(\"href\"),\n",
    "    \"desc\": element.select_one(\".tit-desc\").text,\n",
    "    \"interest_rate\" : element.select_one(\".desc-detail\").text.split(\"\\n\")[2],\n",
    "}\n",
    "data"
   ]
  },
  {
   "cell_type": "code",
   "execution_count": 37,
   "id": "7003b3a0",
   "metadata": {},
   "outputs": [
    {
     "data": {
      "text/plain": [
       "[{'title': '언제나 청춘 정기예금',\n",
       "  'link': 'https://www.kebhana.com//cont/mall/mall08/mall0801/mall080101/1471180_115126.jsp',\n",
       "  'desc': '4대 공적연금 이체시 우대금리를 제공하고 보험가입서비스 혜택까지 드리는 시니어 전용상품',\n",
       "  'interest_rate': '1.10%'},\n",
       " {'title': '하나 더예금',\n",
       "  'link': 'https://www.kebhana.com//cont/mall/mall08/mall0801/mall080101/1466995_115126.jsp',\n",
       "  'desc': '목돈마련의 기본, 재테크의 시작!',\n",
       "  'interest_rate': '1.40%'}]"
      ]
     },
     "execution_count": 37,
     "metadata": {},
     "output_type": "execute_result"
    }
   ],
   "source": [
    "datas = []\n",
    "for element in elements:\n",
    "    datas.append({\n",
    "    \"title\" : element.select_one(\"a\").text,\n",
    "    \"link\" : \"https://www.kebhana.com/\" + element.select_one(\"a\").get(\"href\"),\n",
    "    \"desc\": element.select_one(\".tit-desc\").text,\n",
    "    \"interest_rate\" : element.select_one(\".desc-detail\").text.split(\"\\n\")[2]\n",
    "})\n",
    "datas[:2]"
   ]
  },
  {
   "cell_type": "code",
   "execution_count": 35,
   "id": "2073055b",
   "metadata": {},
   "outputs": [],
   "source": [
    "# 4. data(list, dict) > DataFrame"
   ]
  },
  {
   "cell_type": "code",
   "execution_count": 38,
   "id": "4433306a",
   "metadata": {},
   "outputs": [
    {
     "data": {
      "text/html": [
       "<div>\n",
       "<style scoped>\n",
       "    .dataframe tbody tr th:only-of-type {\n",
       "        vertical-align: middle;\n",
       "    }\n",
       "\n",
       "    .dataframe tbody tr th {\n",
       "        vertical-align: top;\n",
       "    }\n",
       "\n",
       "    .dataframe thead th {\n",
       "        text-align: right;\n",
       "    }\n",
       "</style>\n",
       "<table border=\"1\" class=\"dataframe\">\n",
       "  <thead>\n",
       "    <tr style=\"text-align: right;\">\n",
       "      <th></th>\n",
       "      <th>title</th>\n",
       "      <th>link</th>\n",
       "      <th>desc</th>\n",
       "      <th>interest_rate</th>\n",
       "    </tr>\n",
       "  </thead>\n",
       "  <tbody>\n",
       "    <tr>\n",
       "      <th>0</th>\n",
       "      <td>언제나 청춘 정기예금</td>\n",
       "      <td>https://www.kebhana.com//cont/mall/mall08/mall...</td>\n",
       "      <td>4대 공적연금 이체시 우대금리를 제공하고 보험가입서비스 혜택까지 드리는 시니어 전용상품</td>\n",
       "      <td>1.10%</td>\n",
       "    </tr>\n",
       "    <tr>\n",
       "      <th>1</th>\n",
       "      <td>하나 더예금</td>\n",
       "      <td>https://www.kebhana.com//cont/mall/mall08/mall...</td>\n",
       "      <td>목돈마련의 기본, 재테크의 시작!</td>\n",
       "      <td>1.40%</td>\n",
       "    </tr>\n",
       "    <tr>\n",
       "      <th>2</th>\n",
       "      <td>하나 원큐 정기예금</td>\n",
       "      <td>https://www.kebhana.com//cont/mall/mall08/mall...</td>\n",
       "      <td>간편하게 우대금리를 제공하는 스마트폰 예금</td>\n",
       "      <td>1.10%</td>\n",
       "    </tr>\n",
       "    <tr>\n",
       "      <th>3</th>\n",
       "      <td>e-플러스 정기예금</td>\n",
       "      <td>https://www.kebhana.com//cont/mall/mall08/mall...</td>\n",
       "      <td>적은 금액이라도 높은금리 혜택을 마음껏 누리세요</td>\n",
       "      <td>0.95%</td>\n",
       "    </tr>\n",
       "    <tr>\n",
       "      <th>4</th>\n",
       "      <td>주거래 정기예금</td>\n",
       "      <td>https://www.kebhana.com//cont/mall/mall08/mall...</td>\n",
       "      <td>입출금 거래가 늘어날수록 정기예금 금리도 쑥~쑥!KEB하나은행 주거래 고객을 위한 ...</td>\n",
       "      <td>1.25%</td>\n",
       "    </tr>\n",
       "    <tr>\n",
       "      <th>5</th>\n",
       "      <td>행복knowhow 연금예금</td>\n",
       "      <td>https://www.kebhana.com//cont/mall/mall08/mall...</td>\n",
       "      <td>노후자금, 생활자금, 재투자자금까지! 행복knowhow 연금예금으로 설계하세요!</td>\n",
       "      <td>1.10%</td>\n",
       "    </tr>\n",
       "    <tr>\n",
       "      <th>6</th>\n",
       "      <td>3·6·9 정기예금</td>\n",
       "      <td>https://www.kebhana.com//cont/mall/mall08/mall...</td>\n",
       "      <td>3개월마다, 기쁜 날마다, 고금리의 즐거움을 드립니다.3개월마다, 기쁜 날마다 언제...</td>\n",
       "      <td>0.95%</td>\n",
       "    </tr>\n",
       "    <tr>\n",
       "      <th>7</th>\n",
       "      <td>고단위 플러스(금리연동형)</td>\n",
       "      <td>https://www.kebhana.com//cont/mall/mall08/mall...</td>\n",
       "      <td>이자 지급 방법도 내 맘대로! 이자 지급 시기도 내 맘대로!</td>\n",
       "      <td>0.70%</td>\n",
       "    </tr>\n",
       "    <tr>\n",
       "      <th>8</th>\n",
       "      <td>고단위 플러스(금리확정형)</td>\n",
       "      <td>https://www.kebhana.com//cont/mall/mall08/mall...</td>\n",
       "      <td>이자 지급 방법도 내 맘대로! 이자 지급 시기도 내 맘대로!</td>\n",
       "      <td>1.00%</td>\n",
       "    </tr>\n",
       "    <tr>\n",
       "      <th>9</th>\n",
       "      <td>정기예금</td>\n",
       "      <td>https://www.kebhana.com//cont/mall/mall08/mall...</td>\n",
       "      <td>목돈을 일정기간 동안 예치하여 안정적인 수익을 추구하는 예금</td>\n",
       "      <td>0.95%</td>\n",
       "    </tr>\n",
       "    <tr>\n",
       "      <th>10</th>\n",
       "      <td>양도성예금증서(CD)</td>\n",
       "      <td>https://www.kebhana.com//cont/mall/mall08/mall...</td>\n",
       "      <td>만기일 이전이라도 양도가 가능하여 단기자금운용에 적합한 시장성 예금</td>\n",
       "      <td>1.00%</td>\n",
       "    </tr>\n",
       "    <tr>\n",
       "      <th>11</th>\n",
       "      <td>표지어음</td>\n",
       "      <td>https://www.kebhana.com//cont/mall/mall08/mall...</td>\n",
       "      <td>은행이 보유한 원어음(상업어음 또는 무역어음)을 근거로 발행하는 배서양도 가능한 어음</td>\n",
       "      <td>0.50%</td>\n",
       "    </tr>\n",
       "    <tr>\n",
       "      <th>12</th>\n",
       "      <td>1년 연동형 정기예금</td>\n",
       "      <td>https://www.kebhana.com//cont/mall/mall08/mall...</td>\n",
       "      <td>서울보증보험의 보증서 발급 담보용 정기예금</td>\n",
       "      <td>0.55%</td>\n",
       "    </tr>\n",
       "  </tbody>\n",
       "</table>\n",
       "</div>"
      ],
      "text/plain": [
       "             title                                               link  \\\n",
       "0      언제나 청춘 정기예금  https://www.kebhana.com//cont/mall/mall08/mall...   \n",
       "1           하나 더예금  https://www.kebhana.com//cont/mall/mall08/mall...   \n",
       "2       하나 원큐 정기예금  https://www.kebhana.com//cont/mall/mall08/mall...   \n",
       "3       e-플러스 정기예금  https://www.kebhana.com//cont/mall/mall08/mall...   \n",
       "4         주거래 정기예금  https://www.kebhana.com//cont/mall/mall08/mall...   \n",
       "5   행복knowhow 연금예금  https://www.kebhana.com//cont/mall/mall08/mall...   \n",
       "6       3·6·9 정기예금  https://www.kebhana.com//cont/mall/mall08/mall...   \n",
       "7   고단위 플러스(금리연동형)  https://www.kebhana.com//cont/mall/mall08/mall...   \n",
       "8   고단위 플러스(금리확정형)  https://www.kebhana.com//cont/mall/mall08/mall...   \n",
       "9             정기예금  https://www.kebhana.com//cont/mall/mall08/mall...   \n",
       "10     양도성예금증서(CD)  https://www.kebhana.com//cont/mall/mall08/mall...   \n",
       "11            표지어음  https://www.kebhana.com//cont/mall/mall08/mall...   \n",
       "12     1년 연동형 정기예금  https://www.kebhana.com//cont/mall/mall08/mall...   \n",
       "\n",
       "                                                 desc interest_rate  \n",
       "0    4대 공적연금 이체시 우대금리를 제공하고 보험가입서비스 혜택까지 드리는 시니어 전용상품         1.10%  \n",
       "1                                  목돈마련의 기본, 재테크의 시작!         1.40%  \n",
       "2                             간편하게 우대금리를 제공하는 스마트폰 예금         1.10%  \n",
       "3                          적은 금액이라도 높은금리 혜택을 마음껏 누리세요         0.95%  \n",
       "4   입출금 거래가 늘어날수록 정기예금 금리도 쑥~쑥!KEB하나은행 주거래 고객을 위한 ...         1.25%  \n",
       "5        노후자금, 생활자금, 재투자자금까지! 행복knowhow 연금예금으로 설계하세요!         1.10%  \n",
       "6   3개월마다, 기쁜 날마다, 고금리의 즐거움을 드립니다.3개월마다, 기쁜 날마다 언제...         0.95%  \n",
       "7                   이자 지급 방법도 내 맘대로! 이자 지급 시기도 내 맘대로!         0.70%  \n",
       "8                   이자 지급 방법도 내 맘대로! 이자 지급 시기도 내 맘대로!         1.00%  \n",
       "9                   목돈을 일정기간 동안 예치하여 안정적인 수익을 추구하는 예금         0.95%  \n",
       "10              만기일 이전이라도 양도가 가능하여 단기자금운용에 적합한 시장성 예금         1.00%  \n",
       "11    은행이 보유한 원어음(상업어음 또는 무역어음)을 근거로 발행하는 배서양도 가능한 어음         0.50%  \n",
       "12                            서울보증보험의 보증서 발급 담보용 정기예금         0.55%  "
      ]
     },
     "execution_count": 38,
     "metadata": {},
     "output_type": "execute_result"
    }
   ],
   "source": [
    "df = pd.DataFrame(datas)\n",
    "df"
   ]
  }
 ],
 "metadata": {
  "kernelspec": {
   "display_name": "Python 3",
   "language": "python",
   "name": "python3"
  },
  "language_info": {
   "codemirror_mode": {
    "name": "ipython",
    "version": 3
   },
   "file_extension": ".py",
   "mimetype": "text/x-python",
   "name": "python",
   "nbconvert_exporter": "python",
   "pygments_lexer": "ipython3",
   "version": "3.8.8"
  }
 },
 "nbformat": 4,
 "nbformat_minor": 5
}
