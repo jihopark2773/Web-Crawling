{
 "cells": [
  {
   "cell_type": "markdown",
   "id": "7d67036a",
   "metadata": {},
   "source": [
    "### HTML(Hypertext Markup Language)\n",
    "- 웹페이지의 레이아웃을 표현하는 언어입니다.\n",
    "- 구성요소\n",
    "    - Document : 한페이지의 웹을 표현하는 요소\n",
    "    - Element : 하나의 레이아웃을 표현하는 요소\n",
    "    - Tag : 시작태그와 끝태그가 모여서 하나의 엘리먼트가 됩니다 : HTML 코드의 특징을 정의\n",
    "    - Attribute : Tag의 속성을 정의"
   ]
  },
  {
   "cell_type": "code",
   "execution_count": 4,
   "id": "cde1317f",
   "metadata": {
    "scrolled": true
   },
   "outputs": [
    {
     "data": {
      "text/html": [
       "<div> #시작태그\n",
       "    <button class=\"btn\" type=\"button\">html 1</button>\n",
       "    <button class=\"btn\" type=\"button\">html 2</button>\n",
       "</div> #끝태그\n"
      ],
      "text/plain": [
       "<IPython.core.display.HTML object>"
      ]
     },
     "metadata": {},
     "output_type": "display_data"
    }
   ],
   "source": [
    "%%html\n",
    "<div> #시작태그\n",
    "    <button class=\"btn\" type=\"button\">html 1</button>\n",
    "    <button class=\"btn\" type=\"button\">html 2</button>\n",
    "</div> #끝태그"
   ]
  },
  {
   "cell_type": "code",
   "execution_count": null,
   "id": "7e737447",
   "metadata": {},
   "outputs": [],
   "source": [
    "# 1. head : 제목 출력"
   ]
  },
  {
   "cell_type": "code",
   "execution_count": 6,
   "id": "a8ffee56",
   "metadata": {},
   "outputs": [
    {
     "data": {
      "text/html": [
       "<h1>Title</h1>\n",
       "<h6>Title</h6>\n"
      ],
      "text/plain": [
       "<IPython.core.display.HTML object>"
      ]
     },
     "metadata": {},
     "output_type": "display_data"
    }
   ],
   "source": [
    "%%html\n",
    "<h1>Title</h1>\n",
    "<h6>Title</h6>"
   ]
  },
  {
   "cell_type": "code",
   "execution_count": null,
   "id": "1e8d69d8",
   "metadata": {},
   "outputs": [],
   "source": [
    "# 2. p : 한줄의 문자열"
   ]
  },
  {
   "cell_type": "code",
   "execution_count": 7,
   "id": "cfb97c73",
   "metadata": {},
   "outputs": [
    {
     "data": {
      "text/html": [
       "<p>html 1</p>\n",
       "<p>html 2</p>\n"
      ],
      "text/plain": [
       "<IPython.core.display.HTML object>"
      ]
     },
     "metadata": {},
     "output_type": "display_data"
    }
   ],
   "source": [
    "%%html\n",
    "<p>html 1</p>\n",
    "<p>html 2</p>"
   ]
  },
  {
   "cell_type": "code",
   "execution_count": null,
   "id": "72ac6962",
   "metadata": {},
   "outputs": [],
   "source": [
    "# 3. span : 한블럭의 문자열"
   ]
  },
  {
   "cell_type": "code",
   "execution_count": 9,
   "id": "48c0b4ec",
   "metadata": {},
   "outputs": [
    {
     "data": {
      "text/html": [
       "<span>html 1</span>\n",
       "<span>html 2</span>\n"
      ],
      "text/plain": [
       "<IPython.core.display.HTML object>"
      ]
     },
     "metadata": {},
     "output_type": "display_data"
    }
   ],
   "source": [
    "%%html\n",
    "<span>html 1</span>\n",
    "<span>html 2</span>"
   ]
  },
  {
   "cell_type": "code",
   "execution_count": null,
   "id": "26ffded3",
   "metadata": {},
   "outputs": [],
   "source": [
    "# 4. div : 레이아웃을 나타내는 태그"
   ]
  },
  {
   "cell_type": "code",
   "execution_count": 11,
   "id": "11d8caec",
   "metadata": {},
   "outputs": [
    {
     "data": {
      "text/html": [
       "<div>\n",
       "    <p>html 1</p>\n",
       "    <p>html 2</p>\n",
       "</div> \n",
       "<div>\n",
       "    <p>html 3</p>\n",
       "    <p>html 4</p>\n",
       "</div> \n"
      ],
      "text/plain": [
       "<IPython.core.display.HTML object>"
      ]
     },
     "metadata": {},
     "output_type": "display_data"
    }
   ],
   "source": [
    "%%html\n",
    "<div>\n",
    "    <p>html 1</p>\n",
    "    <p>html 2</p>\n",
    "</div> \n",
    "<div>\n",
    "    <p>html 3</p>\n",
    "    <p>html 4</p>\n",
    "</div> "
   ]
  },
  {
   "cell_type": "code",
   "execution_count": null,
   "id": "04780850",
   "metadata": {},
   "outputs": [],
   "source": [
    "# 5. table : 테이블 모양의 데이터를 표현"
   ]
  },
  {
   "cell_type": "code",
   "execution_count": 14,
   "id": "1a9ce18f",
   "metadata": {},
   "outputs": [
    {
     "data": {
      "text/html": [
       "<table>\n",
       "    <caption>테이블 제목</caption>\n",
       "    <thead>\n",
       "        <tr>\n",
       "            <th>Column 1</th>\n",
       "            <th>Column 2</th>\n",
       "        </tr>\n",
       "    </thead>\n",
       "    <tbody>\n",
       "        <tr>\n",
       "            <th>data1</th> <th>data2</th>\n",
       "        </tr>\n",
       "        <tr>\n",
       "            <th>data3</th> <th>data4</th>\n",
       "        </tr>\n",
       "    </tbody>\n",
       "</table>\n"
      ],
      "text/plain": [
       "<IPython.core.display.HTML object>"
      ]
     },
     "metadata": {},
     "output_type": "display_data"
    }
   ],
   "source": [
    "%%html\n",
    "<table>\n",
    "    <caption>테이블 제목</caption>\n",
    "    <thead>\n",
    "        <tr>\n",
    "            <th>Column 1</th>\n",
    "            <th>Column 2</th>\n",
    "        </tr>\n",
    "    </thead>\n",
    "    <tbody>\n",
    "        <tr>\n",
    "            <th>data1</th> <th>data2</th>\n",
    "        </tr>\n",
    "        <tr>\n",
    "            <th>data3</th> <th>data4</th>\n",
    "        </tr>\n",
    "    </tbody>\n",
    "</table>"
   ]
  },
  {
   "cell_type": "code",
   "execution_count": null,
   "id": "6b711131",
   "metadata": {},
   "outputs": [],
   "source": [
    "# 6. ul, li : 리스트 문자열을 나타내는 태그"
   ]
  },
  {
   "cell_type": "code",
   "execution_count": 15,
   "id": "b671d33e",
   "metadata": {},
   "outputs": [
    {
     "data": {
      "text/html": [
       "<ul>\n",
       "    <li>data 1</li>\n",
       "    <li>data 2</li>\n",
       "</ul>\n"
      ],
      "text/plain": [
       "<IPython.core.display.HTML object>"
      ]
     },
     "metadata": {},
     "output_type": "display_data"
    }
   ],
   "source": [
    "%%html\n",
    "<ul>\n",
    "    <li>data 1</li>\n",
    "    <li>data 2</li>\n",
    "</ul>"
   ]
  },
  {
   "cell_type": "code",
   "execution_count": null,
   "id": "80f68364",
   "metadata": {},
   "outputs": [],
   "source": [
    "# 7. a : 링크를 표현하는 태그\n",
    "# href 속성값을 사용해서 이동할 페이지를 정의"
   ]
  },
  {
   "cell_type": "code",
   "execution_count": 16,
   "id": "4efb10fc",
   "metadata": {},
   "outputs": [
    {
     "data": {
      "text/html": [
       "<a href=\"https://google.com\" target=\"_blink\">Click</a>\n"
      ],
      "text/plain": [
       "<IPython.core.display.HTML object>"
      ]
     },
     "metadata": {},
     "output_type": "display_data"
    }
   ],
   "source": [
    "%%html\n",
    "<a href=\"https://google.com\" target=\"_blink\">Click</a>"
   ]
  },
  {
   "cell_type": "code",
   "execution_count": null,
   "id": "39bf166f",
   "metadata": {},
   "outputs": [],
   "source": [
    "# 8. image : 이미지를 출력할 때 사용\n",
    "# src : 이미지 파일의 링크"
   ]
  },
  {
   "cell_type": "code",
   "execution_count": 18,
   "id": "4e6985b9",
   "metadata": {},
   "outputs": [
    {
     "data": {
      "text/html": [
       "<img src=\"https://ssl.pstatic.net/static.news/image/news/2014/favicon/favicon.ico\">\n"
      ],
      "text/plain": [
       "<IPython.core.display.HTML object>"
      ]
     },
     "metadata": {},
     "output_type": "display_data"
    }
   ],
   "source": [
    "%%html\n",
    "<img src=\"https://ssl.pstatic.net/static.news/image/news/2014/favicon/favicon.ico\">"
   ]
  },
  {
   "cell_type": "code",
   "execution_count": null,
   "id": "f8f99b3d",
   "metadata": {},
   "outputs": [],
   "source": [
    "# 9. iframe : 웹페이지 안에 웹페이지를 보여줌"
   ]
  },
  {
   "cell_type": "code",
   "execution_count": 24,
   "id": "2f85f35e",
   "metadata": {},
   "outputs": [
    {
     "data": {
      "text/html": [
       "<iframe src=\"https://www.gmarket.co.kr/\", width='100%', height=\"200px\"></iframe>\n"
      ],
      "text/plain": [
       "<IPython.core.display.HTML object>"
      ]
     },
     "metadata": {},
     "output_type": "display_data"
    }
   ],
   "source": [
    "%%html\n",
    "<iframe src=\"https://www.gmarket.co.kr/\", width='100%', height=\"200px\"></iframe>"
   ]
  }
 ],
 "metadata": {
  "kernelspec": {
   "display_name": "Python 3",
   "language": "python",
   "name": "python3"
  },
  "language_info": {
   "codemirror_mode": {
    "name": "ipython",
    "version": 3
   },
   "file_extension": ".py",
   "mimetype": "text/x-python",
   "name": "python",
   "nbconvert_exporter": "python",
   "pygments_lexer": "ipython3",
   "version": "3.8.8"
  }
 },
 "nbformat": 4,
 "nbformat_minor": 5
}
