{
 "cells": [
  {
   "cell_type": "code",
   "execution_count": 1,
   "id": "33233e27",
   "metadata": {},
   "outputs": [],
   "source": [
    "import pandas as pd\n",
    "import requests"
   ]
  },
  {
   "cell_type": "code",
   "execution_count": null,
   "id": "3d31295e",
   "metadata": {},
   "outputs": [],
   "source": [
    "# 1. 어플리케이션 등록 : request token"
   ]
  },
  {
   "cell_type": "code",
   "execution_count": 3,
   "id": "27c6475a",
   "metadata": {},
   "outputs": [],
   "source": [
    "client_id, client_secret = 'IXiFe4wbW3yAgwzQJ7ua', 'ZLLG6873Fy'"
   ]
  },
  {
   "cell_type": "code",
   "execution_count": null,
   "id": "24632869",
   "metadata": {},
   "outputs": [],
   "source": [
    "# 2. 파파고 api url 확인 (max 10000)"
   ]
  },
  {
   "cell_type": "code",
   "execution_count": 31,
   "id": "4c3dc12f",
   "metadata": {},
   "outputs": [],
   "source": [
    "msg = \"오늘은 금요일입니다. 행복합니까?\"\n",
    "url = 'https://openapi.naver.com/v1/papago/n2mt'\n",
    "headers = {\n",
    "    \"Content-Type\": 'application/json',\n",
    "    \"X-Naver-Client-Id\": client_id,\n",
    "    \"X-Naver-Client-Secret\": client_secret,\n",
    "}\n",
    "params = {\"source\": \"ko\", \"target\": \"en\", \"text\" : msg} "
   ]
  },
  {
   "cell_type": "code",
   "execution_count": 32,
   "id": "f42d7afd",
   "metadata": {},
   "outputs": [],
   "source": [
    "# 3. request > response : data"
   ]
  },
  {
   "cell_type": "code",
   "execution_count": 33,
   "id": "a7805895",
   "metadata": {},
   "outputs": [],
   "source": [
    "import json"
   ]
  },
  {
   "cell_type": "code",
   "execution_count": 34,
   "id": "3dd6847e",
   "metadata": {},
   "outputs": [
    {
     "data": {
      "text/plain": [
       "<Response [200]>"
      ]
     },
     "execution_count": 34,
     "metadata": {},
     "output_type": "execute_result"
    }
   ],
   "source": [
    "response = requests.post(url, json.dumps(params), headers=headers)  ##jsondumps 현재 파라미터에 한글이 들어있어서 인코딩필수\n",
    "response"
   ]
  },
  {
   "cell_type": "code",
   "execution_count": 35,
   "id": "8abb921b",
   "metadata": {},
   "outputs": [
    {
     "data": {
      "text/plain": [
       "'Today is Friday. Are you happy?'"
      ]
     },
     "execution_count": 35,
     "metadata": {},
     "output_type": "execute_result"
    }
   ],
   "source": [
    "en_msg = response.json()[\"message\"][\"result\"][\"translatedText\"]\n",
    "en_msg"
   ]
  },
  {
   "cell_type": "code",
   "execution_count": null,
   "id": "77ef5e4b",
   "metadata": {},
   "outputs": [],
   "source": [
    "# 4. article.csv 파일에 적용"
   ]
  },
  {
   "cell_type": "code",
   "execution_count": 37,
   "id": "495cb7ef",
   "metadata": {},
   "outputs": [],
   "source": [
    "def translate(msg, source=\"ko\", target=\"en\"):\n",
    "    client_id, client_secret = 'IXiFe4wbW3yAgwzQJ7ua', 'ZLLG6873Fy'\n",
    "    url = 'https://openapi.naver.com/v1/papago/n2mt'\n",
    "    headers = {\n",
    "        \"Content-Type\": 'application/json',\n",
    "        \"X-Naver-Client-Id\": client_id,\n",
    "        \"X-Naver-Client-Secret\": client_secret,\n",
    "    }\n",
    "    params = {\"source\": source, \"target\": target, \"text\" : msg} \n",
    "    response = requests.post(url, json.dumps(params), headers=headers)  ##jsondumps 현재 파라미터에 한글이 들어있어서 인코딩필수\n",
    "    return response.json()[\"message\"][\"result\"][\"translatedText\"]"
   ]
  },
  {
   "cell_type": "code",
   "execution_count": 39,
   "id": "87caf218",
   "metadata": {},
   "outputs": [
    {
     "data": {
      "text/plain": [
       "'You can start a side job by learning web crawling.'"
      ]
     },
     "execution_count": 39,
     "metadata": {},
     "output_type": "execute_result"
    }
   ],
   "source": [
    "msg = \"웹크롤링을 배우면 부업을 시작할 수 있습니다.\"\n",
    "translate(msg)"
   ]
  },
  {
   "cell_type": "code",
   "execution_count": 41,
   "id": "136eee94",
   "metadata": {},
   "outputs": [
    {
     "data": {
      "text/html": [
       "<div>\n",
       "<style scoped>\n",
       "    .dataframe tbody tr th:only-of-type {\n",
       "        vertical-align: middle;\n",
       "    }\n",
       "\n",
       "    .dataframe tbody tr th {\n",
       "        vertical-align: top;\n",
       "    }\n",
       "\n",
       "    .dataframe thead th {\n",
       "        text-align: right;\n",
       "    }\n",
       "</style>\n",
       "<table border=\"1\" class=\"dataframe\">\n",
       "  <thead>\n",
       "    <tr style=\"text-align: right;\">\n",
       "      <th></th>\n",
       "      <th>title</th>\n",
       "      <th>link</th>\n",
       "      <th>content</th>\n",
       "    </tr>\n",
       "  </thead>\n",
       "  <tbody>\n",
       "    <tr>\n",
       "      <th>19</th>\n",
       "      <td>국민의힘, 화천대유 특별법안 제출</td>\n",
       "      <td>https://news.naver.com/main/read.naver?mode=LS...</td>\n",
       "      <td>(서울=뉴스1) 이동해 기자 = 5일 서울 여의도 국회에서 추경호 국민의힘 원내수석...</td>\n",
       "    </tr>\n",
       "  </tbody>\n",
       "</table>\n",
       "</div>"
      ],
      "text/plain": [
       "                 title                                               link  \\\n",
       "19  국민의힘, 화천대유 특별법안 제출  https://news.naver.com/main/read.naver?mode=LS...   \n",
       "\n",
       "                                              content  \n",
       "19  (서울=뉴스1) 이동해 기자 = 5일 서울 여의도 국회에서 추경호 국민의힘 원내수석...  "
      ]
     },
     "execution_count": 41,
     "metadata": {},
     "output_type": "execute_result"
    }
   ],
   "source": [
    "df = pd.read_csv(\"article.csv\")\n",
    "df.tail(1)"
   ]
  },
  {
   "cell_type": "code",
   "execution_count": 46,
   "id": "67a062b1",
   "metadata": {},
   "outputs": [
    {
     "data": {
      "text/plain": [
       "18     The power of the people to submit special bills.\n",
       "19    The power of the people, the special bill for ...\n",
       "Name: title, dtype: object"
      ]
     },
     "execution_count": 46,
     "metadata": {},
     "output_type": "execute_result"
    }
   ],
   "source": [
    "en_title = df['title'].apply(translate)\n",
    "en_title.tail(2)"
   ]
  },
  {
   "cell_type": "code",
   "execution_count": 51,
   "id": "75e25ba5",
   "metadata": {
    "scrolled": true
   },
   "outputs": [
    {
     "data": {
      "text/html": [
       "<div>\n",
       "<style scoped>\n",
       "    .dataframe tbody tr th:only-of-type {\n",
       "        vertical-align: middle;\n",
       "    }\n",
       "\n",
       "    .dataframe tbody tr th {\n",
       "        vertical-align: top;\n",
       "    }\n",
       "\n",
       "    .dataframe thead th {\n",
       "        text-align: right;\n",
       "    }\n",
       "</style>\n",
       "<table border=\"1\" class=\"dataframe\">\n",
       "  <thead>\n",
       "    <tr style=\"text-align: right;\">\n",
       "      <th></th>\n",
       "      <th>title</th>\n",
       "      <th>link</th>\n",
       "      <th>content</th>\n",
       "      <th>en_title</th>\n",
       "    </tr>\n",
       "  </thead>\n",
       "  <tbody>\n",
       "    <tr>\n",
       "      <th>0</th>\n",
       "      <td>‘MB·박근혜 사면’ 반대 48%, 찬성 44%</td>\n",
       "      <td>https://news.naver.com/main/read.naver?mode=LS...</td>\n",
       "      <td>‘MB·박근혜 사면’ 반대 48%, 찬성 44%</td>\n",
       "      <td>\"If I buy MB and Park Geun Hye,\" 48% are again...</td>\n",
       "    </tr>\n",
       "    <tr>\n",
       "      <th>1</th>\n",
       "      <td>보훈처, 보훈문화 확산 위한 '보훈문화포럼' 개최</td>\n",
       "      <td>https://news.naver.com/main/read.naver?mode=LS...</td>\n",
       "      <td>보훈처, 보훈문화 확산 위한 '보훈문화포럼' 개최</td>\n",
       "      <td>Ministry of Patriots and Veterans Affairs will...</td>\n",
       "    </tr>\n",
       "    <tr>\n",
       "      <th>2</th>\n",
       "      <td>尹 테마주↑ 洪 테마주↓…투자자가 본 국힘 최종 후보는?</td>\n",
       "      <td>https://news.naver.com/main/read.naver?mode=LS...</td>\n",
       "      <td>尹 테마주↑ 洪 테마주↓…투자자가 본 국힘 최종 후보는?</td>\n",
       "      <td>테마 Theme drink ↑ 테마 Theme drink ↓…What's t...</td>\n",
       "    </tr>\n",
       "    <tr>\n",
       "      <th>3</th>\n",
       "      <td>국민의힘, 성남 도시개발사업 부정이익 진상조사 및 환수 등에 관한 특별법안 제출</td>\n",
       "      <td>https://news.naver.com/main/read.naver?mode=LS...</td>\n",
       "      <td>국민의힘, 성남 도시개발사업 부정이익 진상조사 및 환수 등에 관한 특별법안 제출</td>\n",
       "      <td>Submission of a special bill on the power of t...</td>\n",
       "    </tr>\n",
       "    <tr>\n",
       "      <th>4</th>\n",
       "      <td>정권교체론 57%·국민의힘 지지율 38%… ‘동반 최고치’</td>\n",
       "      <td>https://news.naver.com/main/read.naver?mode=LS...</td>\n",
       "      <td>정권교체론 57%·국민의힘 지지율 38%… ‘동반 최고치’</td>\n",
       "      <td>57% of the theory of regime change, 38% of the...</td>\n",
       "    </tr>\n",
       "  </tbody>\n",
       "</table>\n",
       "</div>"
      ],
      "text/plain": [
       "                                          title  \\\n",
       "0                    ‘MB·박근혜 사면’ 반대 48%, 찬성 44%   \n",
       "1                   보훈처, 보훈문화 확산 위한 '보훈문화포럼' 개최   \n",
       "2               尹 테마주↑ 洪 테마주↓…투자자가 본 국힘 최종 후보는?   \n",
       "3  국민의힘, 성남 도시개발사업 부정이익 진상조사 및 환수 등에 관한 특별법안 제출   \n",
       "4              정권교체론 57%·국민의힘 지지율 38%… ‘동반 최고치’   \n",
       "\n",
       "                                                link  \\\n",
       "0  https://news.naver.com/main/read.naver?mode=LS...   \n",
       "1  https://news.naver.com/main/read.naver?mode=LS...   \n",
       "2  https://news.naver.com/main/read.naver?mode=LS...   \n",
       "3  https://news.naver.com/main/read.naver?mode=LS...   \n",
       "4  https://news.naver.com/main/read.naver?mode=LS...   \n",
       "\n",
       "                                        content  \\\n",
       "0                    ‘MB·박근혜 사면’ 반대 48%, 찬성 44%   \n",
       "1                   보훈처, 보훈문화 확산 위한 '보훈문화포럼' 개최   \n",
       "2               尹 테마주↑ 洪 테마주↓…투자자가 본 국힘 최종 후보는?   \n",
       "3  국민의힘, 성남 도시개발사업 부정이익 진상조사 및 환수 등에 관한 특별법안 제출   \n",
       "4              정권교체론 57%·국민의힘 지지율 38%… ‘동반 최고치’   \n",
       "\n",
       "                                            en_title  \n",
       "0  \"If I buy MB and Park Geun Hye,\" 48% are again...  \n",
       "1  Ministry of Patriots and Veterans Affairs will...  \n",
       "2  테마 Theme drink ↑ 테마 Theme drink ↓…What's t...  \n",
       "3  Submission of a special bill on the power of t...  \n",
       "4  57% of the theory of regime change, 38% of the...  "
      ]
     },
     "execution_count": 51,
     "metadata": {},
     "output_type": "execute_result"
    }
   ],
   "source": [
    "df['en_title'] = en_title\n",
    "df['content'] =df.replace(\"\\n\", \" \").replace(\"\\t\", \" \")\n",
    "df.head(5)"
   ]
  }
 ],
 "metadata": {
  "kernelspec": {
   "display_name": "Python 3",
   "language": "python",
   "name": "python3"
  },
  "language_info": {
   "codemirror_mode": {
    "name": "ipython",
    "version": 3
   },
   "file_extension": ".py",
   "mimetype": "text/x-python",
   "name": "python",
   "nbconvert_exporter": "python",
   "pygments_lexer": "ipython3",
   "version": "3.8.8"
  }
 },
 "nbformat": 4,
 "nbformat_minor": 5
}
