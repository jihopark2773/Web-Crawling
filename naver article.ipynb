{
 "cells": [
  {
   "cell_type": "code",
   "execution_count": null,
   "id": "c8cbdcc0",
   "metadata": {},
   "outputs": [],
   "source": [
    "# 네이버 기사 데이터 수집\n",
    "# API : application programming interface\n",
    "# naver(papago, keyword api), kakao(oauth, profile, kakotalk msg)\n",
    "# selenium\n",
    "\n",
    "# 인코딩 h -> c\n",
    "# a > 0000 (encoding), 0000 > a (decoing)\n",
    "# ascII : 영문알파벳, 숫자, 특수문자 (4Byte)\n",
    "# euc-kr : 한국어도 (8byte)\n",
    "# UTF-8 : 모든언어 (16Byte)"
   ]
  },
  {
   "cell_type": "code",
   "execution_count": 2,
   "id": "a2d81fa8",
   "metadata": {},
   "outputs": [],
   "source": [
    "import pandas as pd\n",
    "import requests\n",
    "from bs4 import BeautifulSoup"
   ]
  },
  {
   "cell_type": "code",
   "execution_count": null,
   "id": "91550680",
   "metadata": {},
   "outputs": [],
   "source": [
    "# 1. 웹페이지 분석"
   ]
  },
  {
   "cell_type": "code",
   "execution_count": 6,
   "id": "e6527c0d",
   "metadata": {},
   "outputs": [
    {
     "data": {
      "text/plain": [
       "'https://news.naver.com/main/list.naver?mode=LSD&mid=sec&sid1=100&date=20211105&page=1'"
      ]
     },
     "execution_count": 6,
     "metadata": {},
     "output_type": "execute_result"
    }
   ],
   "source": [
    "category, date, page = 100, 20211105, 1\n",
    "url = 'https://news.naver.com/main/list.naver?mode=LSD&mid=sec&sid1={}&date={}&page={}'.format(category, date, page)\n",
    "url"
   ]
  },
  {
   "cell_type": "code",
   "execution_count": null,
   "id": "3a557955",
   "metadata": {},
   "outputs": [],
   "source": [
    "# 2. 기사의 제목, 링크 데이터 수집"
   ]
  },
  {
   "cell_type": "code",
   "execution_count": 8,
   "id": "f85fc4d0",
   "metadata": {},
   "outputs": [
    {
     "data": {
      "text/plain": [
       "<Response [200]>"
      ]
     },
     "execution_count": 8,
     "metadata": {},
     "output_type": "execute_result"
    }
   ],
   "source": [
    "headers = {'user-agent' :'Mozilla/5.0 (Windows NT 10.0; Win64; x64) AppleWebKit/537.36 (KHTML, like Gecko) Chrome/94.0.4606.81 Safari/537.36'}\n",
    "response = requests.get(url, headers=headers)\n",
    "response"
   ]
  },
  {
   "cell_type": "code",
   "execution_count": 9,
   "id": "b87cf9d4",
   "metadata": {},
   "outputs": [],
   "source": [
    "dom = BeautifulSoup(response.text, \"html.parser\")"
   ]
  },
  {
   "cell_type": "code",
   "execution_count": 16,
   "id": "37e07746",
   "metadata": {},
   "outputs": [
    {
     "data": {
      "text/plain": [
       "20"
      ]
     },
     "execution_count": 16,
     "metadata": {},
     "output_type": "execute_result"
    }
   ],
   "source": [
    "selector = \"#main_content > div.list_body.newsflash_body > ul > li\"\n",
    "elements = dom.select(selector)\n",
    "len(elements)"
   ]
  },
  {
   "cell_type": "code",
   "execution_count": 18,
   "id": "63dde75e",
   "metadata": {},
   "outputs": [],
   "source": [
    "element = elements[0]"
   ]
  },
  {
   "cell_type": "code",
   "execution_count": 25,
   "id": "cfc380a1",
   "metadata": {},
   "outputs": [
    {
     "data": {
      "text/plain": [
       "{'title': '‘MB·박근혜 사면’ 반대 48%, 찬성 44%',\n",
       " 'link': 'https://news.naver.com/main/read.naver?mode=LSD&mid=sec&sid1=100&oid=005&aid=0001482244'}"
      ]
     },
     "execution_count": 25,
     "metadata": {},
     "output_type": "execute_result"
    }
   ],
   "source": [
    "data = {\n",
    "    'title' : element.select('a')[1].text.strip(),\n",
    "    'link' : element.select('a')[1].get('href'),\n",
    "}\n",
    "data"
   ]
  },
  {
   "cell_type": "code",
   "execution_count": null,
   "id": "1382055a",
   "metadata": {},
   "outputs": [],
   "source": [
    "# 3. 기사내용 데이터 수집"
   ]
  },
  {
   "cell_type": "code",
   "execution_count": 34,
   "id": "e3f265fc",
   "metadata": {},
   "outputs": [
    {
     "data": {
      "text/html": [
       "<div>\n",
       "<style scoped>\n",
       "    .dataframe tbody tr th:only-of-type {\n",
       "        vertical-align: middle;\n",
       "    }\n",
       "\n",
       "    .dataframe tbody tr th {\n",
       "        vertical-align: top;\n",
       "    }\n",
       "\n",
       "    .dataframe thead th {\n",
       "        text-align: right;\n",
       "    }\n",
       "</style>\n",
       "<table border=\"1\" class=\"dataframe\">\n",
       "  <thead>\n",
       "    <tr style=\"text-align: right;\">\n",
       "      <th></th>\n",
       "      <th>title</th>\n",
       "      <th>link</th>\n",
       "    </tr>\n",
       "  </thead>\n",
       "  <tbody>\n",
       "    <tr>\n",
       "      <th>18</th>\n",
       "      <td>특별법안 제출하는 국민의힘</td>\n",
       "      <td>https://news.naver.com/main/read.naver?mode=LS...</td>\n",
       "    </tr>\n",
       "    <tr>\n",
       "      <th>19</th>\n",
       "      <td>국민의힘, 화천대유 특별법안 제출</td>\n",
       "      <td>https://news.naver.com/main/read.naver?mode=LS...</td>\n",
       "    </tr>\n",
       "  </tbody>\n",
       "</table>\n",
       "</div>"
      ],
      "text/plain": [
       "                 title                                               link\n",
       "18      특별법안 제출하는 국민의힘  https://news.naver.com/main/read.naver?mode=LS...\n",
       "19  국민의힘, 화천대유 특별법안 제출  https://news.naver.com/main/read.naver?mode=LS..."
      ]
     },
     "execution_count": 34,
     "metadata": {},
     "output_type": "execute_result"
    }
   ],
   "source": [
    "datas = []\n",
    "for element in elements:\n",
    "    datas.append({\n",
    "    'title' : element.select('a')[-1].text.strip(),\n",
    "    'link' : element.select('a')[-1].get('href'),\n",
    "    })\n",
    "df = pd.DataFrame(datas)\n",
    "df.tail(2)"
   ]
  },
  {
   "cell_type": "code",
   "execution_count": 50,
   "id": "68897557",
   "metadata": {},
   "outputs": [
    {
     "data": {
      "text/plain": [
       "'이명박·박근혜 두 전직 대통령을 ‘사면해서는 안 된다’는 응답이 ‘사면해야 한다’는 응답보다 많다는 여론조사 결과가 나왔다.한국갤럽이 5일 발표한 11월 1주 여론조사 결과에 따르'"
      ]
     },
     "execution_count": 50,
     "metadata": {},
     "output_type": "execute_result"
    }
   ],
   "source": [
    "url = df.loc[0, 'link']\n",
    "response = requests.get(url, headers=headers)\n",
    "dom = BeautifulSoup(response.text, \"html.parser\")\n",
    "content = dom.select_one(\"#articleBodyContents\").text.strip()\n",
    "content = content.replace(\"\\wa0\", \" \")\n",
    "content[:100]"
   ]
  },
  {
   "cell_type": "code",
   "execution_count": 54,
   "id": "276c5a92",
   "metadata": {},
   "outputs": [
    {
     "data": {
      "text/html": [
       "<div>\n",
       "<style scoped>\n",
       "    .dataframe tbody tr th:only-of-type {\n",
       "        vertical-align: middle;\n",
       "    }\n",
       "\n",
       "    .dataframe tbody tr th {\n",
       "        vertical-align: top;\n",
       "    }\n",
       "\n",
       "    .dataframe thead th {\n",
       "        text-align: right;\n",
       "    }\n",
       "</style>\n",
       "<table border=\"1\" class=\"dataframe\">\n",
       "  <thead>\n",
       "    <tr style=\"text-align: right;\">\n",
       "      <th></th>\n",
       "      <th>title</th>\n",
       "      <th>link</th>\n",
       "      <th>content</th>\n",
       "    </tr>\n",
       "  </thead>\n",
       "  <tbody>\n",
       "    <tr>\n",
       "      <th>0</th>\n",
       "      <td>‘MB·박근혜 사면’ 반대 48%, 찬성 44%</td>\n",
       "      <td>https://news.naver.com/main/read.naver?mode=LS...</td>\n",
       "      <td></td>\n",
       "    </tr>\n",
       "    <tr>\n",
       "      <th>1</th>\n",
       "      <td>보훈처, 보훈문화 확산 위한 '보훈문화포럼' 개최</td>\n",
       "      <td>https://news.naver.com/main/read.naver?mode=LS...</td>\n",
       "      <td></td>\n",
       "    </tr>\n",
       "  </tbody>\n",
       "</table>\n",
       "</div>"
      ],
      "text/plain": [
       "                         title  \\\n",
       "0   ‘MB·박근혜 사면’ 반대 48%, 찬성 44%   \n",
       "1  보훈처, 보훈문화 확산 위한 '보훈문화포럼' 개최   \n",
       "\n",
       "                                                link content  \n",
       "0  https://news.naver.com/main/read.naver?mode=LS...          \n",
       "1  https://news.naver.com/main/read.naver?mode=LS...          "
      ]
     },
     "execution_count": 54,
     "metadata": {},
     "output_type": "execute_result"
    }
   ],
   "source": [
    "df['content'] = \"\"\n",
    "df.head(2)"
   ]
  },
  {
   "cell_type": "code",
   "execution_count": 55,
   "id": "95b11bf4",
   "metadata": {},
   "outputs": [],
   "source": [
    "for idx, data in df.iterrows():\n",
    "    response = requests.get(data.link, headers=headers)\n",
    "    dom = BeautifulSoup(response.text, \"html.parser\")\n",
    "    content = dom.select_one(\"#articleBodyContents\").text.strip()\n",
    "    content = content.replace(\"\\wa0\", \" \")\n",
    "    df.loc[idx, 'content'] = content"
   ]
  },
  {
   "cell_type": "code",
   "execution_count": 59,
   "id": "d5db9551",
   "metadata": {},
   "outputs": [
    {
     "data": {
      "text/html": [
       "<div>\n",
       "<style scoped>\n",
       "    .dataframe tbody tr th:only-of-type {\n",
       "        vertical-align: middle;\n",
       "    }\n",
       "\n",
       "    .dataframe tbody tr th {\n",
       "        vertical-align: top;\n",
       "    }\n",
       "\n",
       "    .dataframe thead th {\n",
       "        text-align: right;\n",
       "    }\n",
       "</style>\n",
       "<table border=\"1\" class=\"dataframe\">\n",
       "  <thead>\n",
       "    <tr style=\"text-align: right;\">\n",
       "      <th></th>\n",
       "      <th>title</th>\n",
       "      <th>link</th>\n",
       "      <th>content</th>\n",
       "    </tr>\n",
       "  </thead>\n",
       "  <tbody>\n",
       "    <tr>\n",
       "      <th>0</th>\n",
       "      <td>‘MB·박근혜 사면’ 반대 48%, 찬성 44%</td>\n",
       "      <td>https://news.naver.com/main/read.naver?mode=LS...</td>\n",
       "      <td>이명박·박근혜 두 전직 대통령을 ‘사면해서는 안 된다’는 응답이 ‘사면해야 한다’는...</td>\n",
       "    </tr>\n",
       "    <tr>\n",
       "      <th>1</th>\n",
       "      <td>보훈처, 보훈문화 확산 위한 '보훈문화포럼' 개최</td>\n",
       "      <td>https://news.naver.com/main/read.naver?mode=LS...</td>\n",
       "      <td>'보훈교육 활성화' '보훈문화진흥원 설립 방안' 등 논의 5일 정부세종청사 대강당에...</td>\n",
       "    </tr>\n",
       "  </tbody>\n",
       "</table>\n",
       "</div>"
      ],
      "text/plain": [
       "                         title  \\\n",
       "0   ‘MB·박근혜 사면’ 반대 48%, 찬성 44%   \n",
       "1  보훈처, 보훈문화 확산 위한 '보훈문화포럼' 개최   \n",
       "\n",
       "                                                link  \\\n",
       "0  https://news.naver.com/main/read.naver?mode=LS...   \n",
       "1  https://news.naver.com/main/read.naver?mode=LS...   \n",
       "\n",
       "                                             content  \n",
       "0  이명박·박근혜 두 전직 대통령을 ‘사면해서는 안 된다’는 응답이 ‘사면해야 한다’는...  \n",
       "1  '보훈교육 활성화' '보훈문화진흥원 설립 방안' 등 논의 5일 정부세종청사 대강당에...  "
      ]
     },
     "execution_count": 59,
     "metadata": {},
     "output_type": "execute_result"
    }
   ],
   "source": [
    "df.replace(\"\\t\", \" \").replace(\"\\n\", \" \").head(2)"
   ]
  },
  {
   "cell_type": "code",
   "execution_count": 60,
   "id": "4ad3b7e8",
   "metadata": {},
   "outputs": [],
   "source": [
    "df.to_csv(\"article.csv\", index=False)"
   ]
  },
  {
   "cell_type": "code",
   "execution_count": null,
   "id": "1c93bde8",
   "metadata": {},
   "outputs": [],
   "source": [
    "read.csv(article.csv)"
   ]
  }
 ],
 "metadata": {
  "kernelspec": {
   "display_name": "Python 3",
   "language": "python",
   "name": "python3"
  },
  "language_info": {
   "codemirror_mode": {
    "name": "ipython",
    "version": 3
   },
   "file_extension": ".py",
   "mimetype": "text/x-python",
   "name": "python",
   "nbconvert_exporter": "python",
   "pygments_lexer": "ipython3",
   "version": "3.8.8"
  }
 },
 "nbformat": 4,
 "nbformat_minor": 5
}
