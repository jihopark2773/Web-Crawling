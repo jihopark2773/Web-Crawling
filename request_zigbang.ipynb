{
 "cells": [
  {
   "cell_type": "markdown",
   "id": "4868a78a",
   "metadata": {},
   "source": [
    "### zigbang 원룸 매물 데이터 수집\n",
    "- 지역이름 > 매물정보 "
   ]
  },
  {
   "cell_type": "code",
   "execution_count": 1,
   "id": "748bcd2c",
   "metadata": {},
   "outputs": [],
   "source": [
    "import requests\n",
    "import pandas as pd"
   ]
  },
  {
   "cell_type": "code",
   "execution_count": 2,
   "id": "a5193505",
   "metadata": {},
   "outputs": [],
   "source": [
    "# 1. 동이름 > 위도, 경도 \n",
    "# url encoding : https://meyerweb.com/eric/tools/dencoder/\n",
    "## https://meyerweb.com/eric/tools/dencoder/ (Decoding)"
   ]
  },
  {
   "cell_type": "code",
   "execution_count": 3,
   "id": "e9e5c011",
   "metadata": {},
   "outputs": [
    {
     "data": {
      "text/plain": [
       "(37.56288146972656, 126.90928649902344)"
      ]
     },
     "execution_count": 3,
     "metadata": {},
     "output_type": "execute_result"
    }
   ],
   "source": [
    "address = \"마포구 성산동\"\n",
    "url = f\"https://apis.zigbang.com/v2/search?leaseYn=N&q={address}&serviceType=원룸\"\n",
    "response = requests.get(url)\n",
    "address_data = response.json()[\"items\"][0]\n",
    "lat, lng = address_data[\"lat\"], address_data[\"lng\"]\n",
    "lat, lng"
   ]
  },
  {
   "cell_type": "code",
   "execution_count": 4,
   "id": "fa25396a",
   "metadata": {},
   "outputs": [],
   "source": [
    "# 2. 위도,경도 > geohash\n",
    "# geohash2 설치"
   ]
  },
  {
   "cell_type": "code",
   "execution_count": 5,
   "id": "2582ffe8",
   "metadata": {},
   "outputs": [],
   "source": [
    "# !pip install geohash2"
   ]
  },
  {
   "cell_type": "code",
   "execution_count": 6,
   "id": "1fb9a37d",
   "metadata": {},
   "outputs": [
    {
     "name": "stdout",
     "output_type": "stream",
     "text": [
      "Requirement already satisfied: geohash2 in c:\\programdata\\anaconda3\\lib\\site-packages (1.1)\n",
      "Requirement already satisfied: docutils>=0.3 in c:\\programdata\\anaconda3\\lib\\site-packages (from geohash2) (0.17)\n"
     ]
    }
   ],
   "source": [
    "!pip install geohash2\n",
    "import geohash2"
   ]
  },
  {
   "cell_type": "code",
   "execution_count": 7,
   "id": "89b7503c",
   "metadata": {},
   "outputs": [
    {
     "data": {
      "text/plain": [
       "'wydjx'"
      ]
     },
     "execution_count": 7,
     "metadata": {},
     "output_type": "execute_result"
    }
   ],
   "source": [
    "# precision이 작아질수록 더 넓은 영역을 의미\n",
    "geohash = geohash2.encode(lat, lng, precision=5)\n",
    "geohash"
   ]
  },
  {
   "cell_type": "code",
   "execution_count": 8,
   "id": "4f1aaa7b",
   "metadata": {},
   "outputs": [],
   "source": [
    "# 3. geohash > item_ids"
   ]
  },
  {
   "cell_type": "code",
   "execution_count": 9,
   "id": "3319dccb",
   "metadata": {},
   "outputs": [
    {
     "data": {
      "text/plain": [
       "<Response [200]>"
      ]
     },
     "execution_count": 9,
     "metadata": {},
     "output_type": "execute_result"
    }
   ],
   "source": [
    "url = f\"https://apis.zigbang.com/v2/items?deposit_gteq=0\\\n",
    "&domain=zigbang&geohash={geohash}&needHasNoFiltered=true&rent_gteq=0\\\n",
    "&sales_type_in=전세|월세&service_type_eq=원룸\"\n",
    "response = requests.get(url)\n",
    "response"
   ]
  },
  {
   "cell_type": "code",
   "execution_count": 10,
   "id": "38242c7f",
   "metadata": {},
   "outputs": [
    {
     "data": {
      "text/plain": [
       "(929, [28920629, 29242318, 29271364, 29269875, 29153115])"
      ]
     },
     "execution_count": 10,
     "metadata": {},
     "output_type": "execute_result"
    }
   ],
   "source": [
    "datas = response.json()[\"items\"]\n",
    "item_ids = [data[\"item_id\"] for data in datas]\n",
    "len(item_ids), item_ids[:5]"
   ]
  },
  {
   "cell_type": "code",
   "execution_count": 11,
   "id": "679714f7",
   "metadata": {},
   "outputs": [
    {
     "data": {
      "text/plain": [
       "[1, 4, 9, 16, 25]"
      ]
     },
     "execution_count": 11,
     "metadata": {},
     "output_type": "execute_result"
    }
   ],
   "source": [
    "# list conprehention\n",
    "ls = [1, 2, 3, 4, 5]\n",
    "result = []\n",
    "for data in ls:\n",
    "    result.append(data**2)\n",
    "result"
   ]
  },
  {
   "cell_type": "code",
   "execution_count": 12,
   "id": "dc2d10a2",
   "metadata": {},
   "outputs": [
    {
     "data": {
      "text/plain": [
       "[1, 9, 25]"
      ]
     },
     "execution_count": 12,
     "metadata": {},
     "output_type": "execute_result"
    }
   ],
   "source": [
    "result = [data**2 for data in ls if data % 2]\n",
    "result"
   ]
  },
  {
   "cell_type": "code",
   "execution_count": 13,
   "id": "f72af76b",
   "metadata": {},
   "outputs": [],
   "source": [
    "# 4. item_ids > item info : POST"
   ]
  },
  {
   "cell_type": "code",
   "execution_count": 14,
   "id": "1ab8cf15",
   "metadata": {},
   "outputs": [
    {
     "data": {
      "text/plain": [
       "<Response [200]>"
      ]
     },
     "execution_count": 14,
     "metadata": {},
     "output_type": "execute_result"
    }
   ],
   "source": [
    "url = \"https://apis.zigbang.com/v2/items/list\"\n",
    "params = {\n",
    "    \"domain\": \"zigbang\",\n",
    "    \"withCoalition\": \"true\",\n",
    "    \"item_ids\": item_ids,\n",
    "}\n",
    "reponse = requests.post(url, params)\n",
    "reponse"
   ]
  },
  {
   "cell_type": "code",
   "execution_count": 15,
   "id": "31a9e234",
   "metadata": {},
   "outputs": [],
   "source": [
    "pd.options.display.max_columns = 30"
   ]
  },
  {
   "cell_type": "code",
   "execution_count": 16,
   "id": "7cddbe7e",
   "metadata": {},
   "outputs": [
    {
     "data": {
      "text/html": [
       "<div>\n",
       "<style scoped>\n",
       "    .dataframe tbody tr th:only-of-type {\n",
       "        vertical-align: middle;\n",
       "    }\n",
       "\n",
       "    .dataframe tbody tr th {\n",
       "        vertical-align: top;\n",
       "    }\n",
       "\n",
       "    .dataframe thead th {\n",
       "        text-align: right;\n",
       "    }\n",
       "</style>\n",
       "<table border=\"1\" class=\"dataframe\">\n",
       "  <thead>\n",
       "    <tr style=\"text-align: right;\">\n",
       "      <th></th>\n",
       "      <th>item_id</th>\n",
       "      <th>sales_type</th>\n",
       "      <th>deposit</th>\n",
       "      <th>rent</th>\n",
       "      <th>size_m2</th>\n",
       "      <th>building_floor</th>\n",
       "      <th>floor</th>\n",
       "      <th>title</th>\n",
       "      <th>address1</th>\n",
       "    </tr>\n",
       "  </thead>\n",
       "  <tbody>\n",
       "    <tr>\n",
       "      <th>927</th>\n",
       "      <td>29271855</td>\n",
       "      <td>전세</td>\n",
       "      <td>28000</td>\n",
       "      <td>0</td>\n",
       "      <td>33.58</td>\n",
       "      <td>6</td>\n",
       "      <td>5</td>\n",
       "      <td>🔶🔶마포 저렴하고 전망 좋은 복층  쓰리룸🔶🔶</td>\n",
       "      <td>서울시 마포구 중동</td>\n",
       "    </tr>\n",
       "    <tr>\n",
       "      <th>928</th>\n",
       "      <td>29312091</td>\n",
       "      <td>전세</td>\n",
       "      <td>28000</td>\n",
       "      <td>0</td>\n",
       "      <td>36.00</td>\n",
       "      <td>6</td>\n",
       "      <td>5</td>\n",
       "      <td>💚초역세권💚 복층구조💚 막힘 없고 채광 GOOD💚</td>\n",
       "      <td>서울시 마포구 중동</td>\n",
       "    </tr>\n",
       "  </tbody>\n",
       "</table>\n",
       "</div>"
      ],
      "text/plain": [
       "      item_id sales_type  deposit  rent  size_m2 building_floor floor  \\\n",
       "927  29271855         전세    28000     0    33.58              6     5   \n",
       "928  29312091         전세    28000     0    36.00              6     5   \n",
       "\n",
       "                           title    address1  \n",
       "927    🔶🔶마포 저렴하고 전망 좋은 복층  쓰리룸🔶🔶  서울시 마포구 중동  \n",
       "928  💚초역세권💚 복층구조💚 막힘 없고 채광 GOOD💚  서울시 마포구 중동  "
      ]
     },
     "execution_count": 16,
     "metadata": {},
     "output_type": "execute_result"
    }
   ],
   "source": [
    "datas = reponse.json()[\"items\"]\n",
    "df = pd.DataFrame(datas)\n",
    "df = df[[\"item_id\", \"sales_type\", \"deposit\", \"rent\", \"size_m2\",\n",
    "         \"building_floor\", \"floor\", \"title\", \"address1\"]]\n",
    "df.tail(2)"
   ]
  },
  {
   "cell_type": "code",
   "execution_count": 17,
   "id": "92c02627",
   "metadata": {},
   "outputs": [],
   "source": [
    "# 함수로 만들기"
   ]
  },
  {
   "cell_type": "code",
   "execution_count": 27,
   "id": "919aa3a4",
   "metadata": {},
   "outputs": [],
   "source": [
    "def zigbang_oneroom(address):\n",
    "    \n",
    "    # 1. 동이름 > 위도, 경도\n",
    "    url = f\"https://apis.zigbang.com/v2/search?leaseYn=N&q={address}&serviceType=원룸\"\n",
    "    response = requests.get(url)\n",
    "    address_data = response.json()[\"items\"][0]\n",
    "    lat, lng = address_data[\"lat\"], address_data[\"lng\"]\n",
    "    \n",
    "    # 2. 위도,경도 > geohash\n",
    "    geohash = geohash2.encode(lat, lng, precision=5)\n",
    "    \n",
    "    # 3. geohash > item_ids\n",
    "    url = f\"https://apis.zigbang.com/v2/items?deposit_gteq=0\\\n",
    "    &domain=zigbang&geohash={geohash}&needHasNoFiltered=true&rent_gteq=0\\\n",
    "    &sales_type_in=전세|월세&service_type_eq=원룸\"\n",
    "    response = requests.get(url)\n",
    "    datas = response.json()[\"items\"]\n",
    "    item_ids = [data[\"item_id\"] for data in datas]\n",
    "    \n",
    "    # 4. item_ids > item info : POST \n",
    "    url = \"https://apis.zigbang.com/v2/items/list\"\n",
    "    params = {\n",
    "        \"domain\": \"zigbang\",\n",
    "        \"withCoalition\": \"true\",\n",
    "        \"item_ids\": item_ids,\n",
    "    }\n",
    "    reponse = requests.post(url, params)\n",
    "    datas = reponse.json()[\"items\"]\n",
    "    df = pd.DataFrame(datas)\n",
    "    columns = [\"item_id\", \"sales_type\", \"deposit\", \"rent\", \"size_m2\", \"building_floor\", \"floor\", \"title\", \"address1\"]\n",
    "    \n",
    "    return df[columns]"
   ]
  },
  {
   "cell_type": "code",
   "execution_count": 29,
   "id": "cd15f364",
   "metadata": {},
   "outputs": [
    {
     "data": {
      "text/html": [
       "<div>\n",
       "<style scoped>\n",
       "    .dataframe tbody tr th:only-of-type {\n",
       "        vertical-align: middle;\n",
       "    }\n",
       "\n",
       "    .dataframe tbody tr th {\n",
       "        vertical-align: top;\n",
       "    }\n",
       "\n",
       "    .dataframe thead th {\n",
       "        text-align: right;\n",
       "    }\n",
       "</style>\n",
       "<table border=\"1\" class=\"dataframe\">\n",
       "  <thead>\n",
       "    <tr style=\"text-align: right;\">\n",
       "      <th></th>\n",
       "      <th>item_id</th>\n",
       "      <th>sales_type</th>\n",
       "      <th>deposit</th>\n",
       "      <th>rent</th>\n",
       "      <th>size_m2</th>\n",
       "      <th>building_floor</th>\n",
       "      <th>floor</th>\n",
       "      <th>title</th>\n",
       "      <th>address1</th>\n",
       "    </tr>\n",
       "  </thead>\n",
       "  <tbody>\n",
       "    <tr>\n",
       "      <th>87</th>\n",
       "      <td>29206986</td>\n",
       "      <td>월세</td>\n",
       "      <td>2000</td>\n",
       "      <td>110</td>\n",
       "      <td>35.80</td>\n",
       "      <td>5</td>\n",
       "      <td>3</td>\n",
       "      <td>컨디션굿 가격굿 빠른입주가능</td>\n",
       "      <td>서울시 강남구 개포동</td>\n",
       "    </tr>\n",
       "    <tr>\n",
       "      <th>88</th>\n",
       "      <td>29090161</td>\n",
       "      <td>월세</td>\n",
       "      <td>30000</td>\n",
       "      <td>60</td>\n",
       "      <td>46.49</td>\n",
       "      <td>4</td>\n",
       "      <td>4</td>\n",
       "      <td>💎반전세 신축급 쓰리룸 거실아주넓은💎</td>\n",
       "      <td>서울시 강남구 개포동</td>\n",
       "    </tr>\n",
       "  </tbody>\n",
       "</table>\n",
       "</div>"
      ],
      "text/plain": [
       "     item_id sales_type  deposit  rent  size_m2 building_floor floor  \\\n",
       "87  29206986         월세     2000   110    35.80              5     3   \n",
       "88  29090161         월세    30000    60    46.49              4     4   \n",
       "\n",
       "                   title     address1  \n",
       "87       컨디션굿 가격굿 빠른입주가능  서울시 강남구 개포동  \n",
       "88  💎반전세 신축급 쓰리룸 거실아주넓은💎  서울시 강남구 개포동  "
      ]
     },
     "execution_count": 29,
     "metadata": {},
     "output_type": "execute_result"
    }
   ],
   "source": [
    "address = \"개포동\"\n",
    "df = zigbang_oneroom(address)\n",
    "df.tail(2)"
   ]
  },
  {
   "cell_type": "code",
   "execution_count": 34,
   "id": "99f99cde",
   "metadata": {},
   "outputs": [
    {
     "data": {
      "text/html": [
       "<div>\n",
       "<style scoped>\n",
       "    .dataframe tbody tr th:only-of-type {\n",
       "        vertical-align: middle;\n",
       "    }\n",
       "\n",
       "    .dataframe tbody tr th {\n",
       "        vertical-align: top;\n",
       "    }\n",
       "\n",
       "    .dataframe thead th {\n",
       "        text-align: right;\n",
       "    }\n",
       "</style>\n",
       "<table border=\"1\" class=\"dataframe\">\n",
       "  <thead>\n",
       "    <tr style=\"text-align: right;\">\n",
       "      <th></th>\n",
       "      <th>item_id</th>\n",
       "      <th>sales_type</th>\n",
       "      <th>deposit</th>\n",
       "      <th>rent</th>\n",
       "      <th>size_m2</th>\n",
       "      <th>building_floor</th>\n",
       "      <th>floor</th>\n",
       "      <th>title</th>\n",
       "      <th>address1</th>\n",
       "    </tr>\n",
       "  </thead>\n",
       "  <tbody>\n",
       "    <tr>\n",
       "      <th>0</th>\n",
       "      <td>29307792</td>\n",
       "      <td>월세</td>\n",
       "      <td>1000</td>\n",
       "      <td>60</td>\n",
       "      <td>42.98</td>\n",
       "      <td>3</td>\n",
       "      <td>저</td>\n",
       "      <td>청계산입구 초 역세권 오피스텔 사업자용</td>\n",
       "      <td>서울시 서초구 신원동</td>\n",
       "    </tr>\n",
       "    <tr>\n",
       "      <th>1</th>\n",
       "      <td>29302254</td>\n",
       "      <td>전세</td>\n",
       "      <td>21000</td>\n",
       "      <td>0</td>\n",
       "      <td>59.50</td>\n",
       "      <td>5</td>\n",
       "      <td>저</td>\n",
       "      <td>청계산입구 초 역세권 귀한 전세매물</td>\n",
       "      <td>서울시 서초구 신원동</td>\n",
       "    </tr>\n",
       "    <tr>\n",
       "      <th>2</th>\n",
       "      <td>29036802</td>\n",
       "      <td>월세</td>\n",
       "      <td>2000</td>\n",
       "      <td>70</td>\n",
       "      <td>56.20</td>\n",
       "      <td>5</td>\n",
       "      <td>고</td>\n",
       "      <td>청계산입구 초 역세권 신축 오피스텔</td>\n",
       "      <td>서울시 서초구 신원동</td>\n",
       "    </tr>\n",
       "    <tr>\n",
       "      <th>3</th>\n",
       "      <td>29312374</td>\n",
       "      <td>전세</td>\n",
       "      <td>95000</td>\n",
       "      <td>0</td>\n",
       "      <td>105.79</td>\n",
       "      <td>3</td>\n",
       "      <td>1</td>\n",
       "      <td>💒테라스 소나무숲 view를 느끼세요! 마지막매물!!💒</td>\n",
       "      <td>서울시 서초구 내곡동</td>\n",
       "    </tr>\n",
       "    <tr>\n",
       "      <th>4</th>\n",
       "      <td>29234305</td>\n",
       "      <td>월세</td>\n",
       "      <td>20000</td>\n",
       "      <td>720</td>\n",
       "      <td>338.86</td>\n",
       "      <td>2</td>\n",
       "      <td>1</td>\n",
       "      <td>◀집콕/정원+테라스▶러블리♥단독[4룸4화]신혼부부,작업실</td>\n",
       "      <td>서울시 서초구 염곡동</td>\n",
       "    </tr>\n",
       "    <tr>\n",
       "      <th>...</th>\n",
       "      <td>...</td>\n",
       "      <td>...</td>\n",
       "      <td>...</td>\n",
       "      <td>...</td>\n",
       "      <td>...</td>\n",
       "      <td>...</td>\n",
       "      <td>...</td>\n",
       "      <td>...</td>\n",
       "      <td>...</td>\n",
       "    </tr>\n",
       "    <tr>\n",
       "      <th>84</th>\n",
       "      <td>29265347</td>\n",
       "      <td>월세</td>\n",
       "      <td>70</td>\n",
       "      <td>70</td>\n",
       "      <td>39.67</td>\n",
       "      <td>6</td>\n",
       "      <td>고</td>\n",
       "      <td>💛실가격🧡No.1💚강남💜개포동 유일 단기풀옵션</td>\n",
       "      <td>서울시 강남구 개포동</td>\n",
       "    </tr>\n",
       "    <tr>\n",
       "      <th>85</th>\n",
       "      <td>29292587</td>\n",
       "      <td>월세</td>\n",
       "      <td>100</td>\n",
       "      <td>75</td>\n",
       "      <td>33.06</td>\n",
       "      <td>6</td>\n",
       "      <td>고</td>\n",
       "      <td>삼호물산 사거리 풀옵션 단기원룸</td>\n",
       "      <td>서울시 강남구 개포동</td>\n",
       "    </tr>\n",
       "    <tr>\n",
       "      <th>86</th>\n",
       "      <td>29304153</td>\n",
       "      <td>월세</td>\n",
       "      <td>21000</td>\n",
       "      <td>20</td>\n",
       "      <td>49.59</td>\n",
       "      <td>4</td>\n",
       "      <td>4</td>\n",
       "      <td>!!(급급급)개포동 신축급 가성비 최강의 2룸 반전세!!</td>\n",
       "      <td>서울시 강남구 개포동</td>\n",
       "    </tr>\n",
       "    <tr>\n",
       "      <th>87</th>\n",
       "      <td>29206986</td>\n",
       "      <td>월세</td>\n",
       "      <td>2000</td>\n",
       "      <td>110</td>\n",
       "      <td>35.80</td>\n",
       "      <td>5</td>\n",
       "      <td>3</td>\n",
       "      <td>컨디션굿 가격굿 빠른입주가능</td>\n",
       "      <td>서울시 강남구 개포동</td>\n",
       "    </tr>\n",
       "    <tr>\n",
       "      <th>88</th>\n",
       "      <td>29090161</td>\n",
       "      <td>월세</td>\n",
       "      <td>30000</td>\n",
       "      <td>60</td>\n",
       "      <td>46.49</td>\n",
       "      <td>4</td>\n",
       "      <td>4</td>\n",
       "      <td>💎반전세 신축급 쓰리룸 거실아주넓은💎</td>\n",
       "      <td>서울시 강남구 개포동</td>\n",
       "    </tr>\n",
       "  </tbody>\n",
       "</table>\n",
       "<p>89 rows × 9 columns</p>\n",
       "</div>"
      ],
      "text/plain": [
       "     item_id sales_type  deposit  rent  size_m2 building_floor floor  \\\n",
       "0   29307792         월세     1000    60    42.98              3     저   \n",
       "1   29302254         전세    21000     0    59.50              5     저   \n",
       "2   29036802         월세     2000    70    56.20              5     고   \n",
       "3   29312374         전세    95000     0   105.79              3     1   \n",
       "4   29234305         월세    20000   720   338.86              2     1   \n",
       "..       ...        ...      ...   ...      ...            ...   ...   \n",
       "84  29265347         월세       70    70    39.67              6     고   \n",
       "85  29292587         월세      100    75    33.06              6     고   \n",
       "86  29304153         월세    21000    20    49.59              4     4   \n",
       "87  29206986         월세     2000   110    35.80              5     3   \n",
       "88  29090161         월세    30000    60    46.49              4     4   \n",
       "\n",
       "                              title     address1  \n",
       "0             청계산입구 초 역세권 오피스텔 사업자용  서울시 서초구 신원동  \n",
       "1               청계산입구 초 역세권 귀한 전세매물  서울시 서초구 신원동  \n",
       "2               청계산입구 초 역세권 신축 오피스텔  서울시 서초구 신원동  \n",
       "3    💒테라스 소나무숲 view를 느끼세요! 마지막매물!!💒  서울시 서초구 내곡동  \n",
       "4   ◀집콕/정원+테라스▶러블리♥단독[4룸4화]신혼부부,작업실  서울시 서초구 염곡동  \n",
       "..                              ...          ...  \n",
       "84        💛실가격🧡No.1💚강남💜개포동 유일 단기풀옵션  서울시 강남구 개포동  \n",
       "85                삼호물산 사거리 풀옵션 단기원룸  서울시 강남구 개포동  \n",
       "86  !!(급급급)개포동 신축급 가성비 최강의 2룸 반전세!!  서울시 강남구 개포동  \n",
       "87                  컨디션굿 가격굿 빠른입주가능  서울시 강남구 개포동  \n",
       "88             💎반전세 신축급 쓰리룸 거실아주넓은💎  서울시 강남구 개포동  \n",
       "\n",
       "[89 rows x 9 columns]"
      ]
     },
     "execution_count": 34,
     "metadata": {},
     "output_type": "execute_result"
    }
   ],
   "source": [
    "df"
   ]
  },
  {
   "cell_type": "code",
   "execution_count": 40,
   "id": "c9d4c1de",
   "metadata": {},
   "outputs": [
    {
     "data": {
      "text/html": [
       "<div>\n",
       "<style scoped>\n",
       "    .dataframe tbody tr th:only-of-type {\n",
       "        vertical-align: middle;\n",
       "    }\n",
       "\n",
       "    .dataframe tbody tr th {\n",
       "        vertical-align: top;\n",
       "    }\n",
       "\n",
       "    .dataframe thead th {\n",
       "        text-align: right;\n",
       "    }\n",
       "</style>\n",
       "<table border=\"1\" class=\"dataframe\">\n",
       "  <thead>\n",
       "    <tr style=\"text-align: right;\">\n",
       "      <th></th>\n",
       "      <th>item_id</th>\n",
       "      <th>sales_type</th>\n",
       "      <th>deposit</th>\n",
       "      <th>rent</th>\n",
       "      <th>size_m2</th>\n",
       "      <th>building_floor</th>\n",
       "      <th>floor</th>\n",
       "      <th>title</th>\n",
       "      <th>address1</th>\n",
       "    </tr>\n",
       "  </thead>\n",
       "  <tbody>\n",
       "    <tr>\n",
       "      <th>38</th>\n",
       "      <td>29206986</td>\n",
       "      <td>월세</td>\n",
       "      <td>2000</td>\n",
       "      <td>110</td>\n",
       "      <td>35.80</td>\n",
       "      <td>5</td>\n",
       "      <td>3</td>\n",
       "      <td>컨디션굿 가격굿 빠른입주가능</td>\n",
       "      <td>서울시 강남구 개포동</td>\n",
       "    </tr>\n",
       "    <tr>\n",
       "      <th>39</th>\n",
       "      <td>29090161</td>\n",
       "      <td>월세</td>\n",
       "      <td>30000</td>\n",
       "      <td>60</td>\n",
       "      <td>46.49</td>\n",
       "      <td>4</td>\n",
       "      <td>4</td>\n",
       "      <td>💎반전세 신축급 쓰리룸 거실아주넓은💎</td>\n",
       "      <td>서울시 강남구 개포동</td>\n",
       "    </tr>\n",
       "  </tbody>\n",
       "</table>\n",
       "</div>"
      ],
      "text/plain": [
       "     item_id sales_type  deposit  rent  size_m2 building_floor floor  \\\n",
       "38  29206986         월세     2000   110    35.80              5     3   \n",
       "39  29090161         월세    30000    60    46.49              4     4   \n",
       "\n",
       "                   title     address1  \n",
       "38       컨디션굿 가격굿 빠른입주가능  서울시 강남구 개포동  \n",
       "39  💎반전세 신축급 쓰리룸 거실아주넓은💎  서울시 강남구 개포동  "
      ]
     },
     "execution_count": 40,
     "metadata": {},
     "output_type": "execute_result"
    }
   ],
   "source": [
    "filtered_df = df[df['address1'].str.contains(\"개포동\")] ##true인 데이터만 필터링\n",
    "filtered_df = filtered_df.reset_index(drop=True)\n",
    "filtered_df.tail(2)"
   ]
  },
  {
   "cell_type": "code",
   "execution_count": null,
   "id": "66598f00",
   "metadata": {},
   "outputs": [],
   "source": [
    "# 보증금 : 5000 이하, 렌트비 : 80 이하"
   ]
  },
  {
   "cell_type": "code",
   "execution_count": 49,
   "id": "92057976",
   "metadata": {},
   "outputs": [
    {
     "data": {
      "text/html": [
       "<div>\n",
       "<style scoped>\n",
       "    .dataframe tbody tr th:only-of-type {\n",
       "        vertical-align: middle;\n",
       "    }\n",
       "\n",
       "    .dataframe tbody tr th {\n",
       "        vertical-align: top;\n",
       "    }\n",
       "\n",
       "    .dataframe thead th {\n",
       "        text-align: right;\n",
       "    }\n",
       "</style>\n",
       "<table border=\"1\" class=\"dataframe\">\n",
       "  <thead>\n",
       "    <tr style=\"text-align: right;\">\n",
       "      <th></th>\n",
       "      <th>item_id</th>\n",
       "      <th>sales_type</th>\n",
       "      <th>deposit</th>\n",
       "      <th>rent</th>\n",
       "      <th>size_m2</th>\n",
       "      <th>building_floor</th>\n",
       "      <th>floor</th>\n",
       "      <th>title</th>\n",
       "      <th>address1</th>\n",
       "    </tr>\n",
       "  </thead>\n",
       "  <tbody>\n",
       "    <tr>\n",
       "      <th>23</th>\n",
       "      <td>29291711</td>\n",
       "      <td>월세</td>\n",
       "      <td>3000</td>\n",
       "      <td>80</td>\n",
       "      <td>26.70</td>\n",
       "      <td>5</td>\n",
       "      <td>2</td>\n",
       "      <td>☎☎ 신축 풀옵션 넓으세요 +  테라스 ^^</td>\n",
       "      <td>서울시 강남구 개포동</td>\n",
       "    </tr>\n",
       "    <tr>\n",
       "      <th>25</th>\n",
       "      <td>29190666</td>\n",
       "      <td>월세</td>\n",
       "      <td>2000</td>\n",
       "      <td>45</td>\n",
       "      <td>23.14</td>\n",
       "      <td>5</td>\n",
       "      <td>옥탑방</td>\n",
       "      <td>☎☎ 나혼자 옥탑 !!! 리모델링한 풀옵션 원룸</td>\n",
       "      <td>서울시 강남구 개포동</td>\n",
       "    </tr>\n",
       "    <tr>\n",
       "      <th>34</th>\n",
       "      <td>29260020</td>\n",
       "      <td>월세</td>\n",
       "      <td>100</td>\n",
       "      <td>70</td>\n",
       "      <td>46.28</td>\n",
       "      <td>6</td>\n",
       "      <td>중</td>\n",
       "      <td>🛑깜놀주의🛑양재역  인근 단기방 최저가</td>\n",
       "      <td>서울시 강남구 개포동</td>\n",
       "    </tr>\n",
       "    <tr>\n",
       "      <th>35</th>\n",
       "      <td>29265347</td>\n",
       "      <td>월세</td>\n",
       "      <td>70</td>\n",
       "      <td>70</td>\n",
       "      <td>39.67</td>\n",
       "      <td>6</td>\n",
       "      <td>고</td>\n",
       "      <td>💛실가격🧡No.1💚강남💜개포동 유일 단기풀옵션</td>\n",
       "      <td>서울시 강남구 개포동</td>\n",
       "    </tr>\n",
       "    <tr>\n",
       "      <th>36</th>\n",
       "      <td>29292587</td>\n",
       "      <td>월세</td>\n",
       "      <td>100</td>\n",
       "      <td>75</td>\n",
       "      <td>33.06</td>\n",
       "      <td>6</td>\n",
       "      <td>고</td>\n",
       "      <td>삼호물산 사거리 풀옵션 단기원룸</td>\n",
       "      <td>서울시 강남구 개포동</td>\n",
       "    </tr>\n",
       "  </tbody>\n",
       "</table>\n",
       "</div>"
      ],
      "text/plain": [
       "     item_id sales_type  deposit  rent  size_m2 building_floor floor  \\\n",
       "23  29291711         월세     3000    80    26.70              5     2   \n",
       "25  29190666         월세     2000    45    23.14              5   옥탑방   \n",
       "34  29260020         월세      100    70    46.28              6     중   \n",
       "35  29265347         월세       70    70    39.67              6     고   \n",
       "36  29292587         월세      100    75    33.06              6     고   \n",
       "\n",
       "                         title     address1  \n",
       "23    ☎☎ 신축 풀옵션 넓으세요 +  테라스 ^^  서울시 강남구 개포동  \n",
       "25  ☎☎ 나혼자 옥탑 !!! 리모델링한 풀옵션 원룸  서울시 강남구 개포동  \n",
       "34       🛑깜놀주의🛑양재역  인근 단기방 최저가  서울시 강남구 개포동  \n",
       "35   💛실가격🧡No.1💚강남💜개포동 유일 단기풀옵션  서울시 강남구 개포동  \n",
       "36           삼호물산 사거리 풀옵션 단기원룸  서울시 강남구 개포동  "
      ]
     },
     "execution_count": 49,
     "metadata": {},
     "output_type": "execute_result"
    }
   ],
   "source": [
    "# filtered_df.dtypes\n",
    "result_df = filtered_df[\n",
    "    (filtered_df['deposit'] <= 5000) & (filtered_df['rent'] <= 80)\n",
    "]\n",
    "\n",
    "result_df.tail()"
   ]
  }
 ],
 "metadata": {
  "kernelspec": {
   "display_name": "Python 3",
   "language": "python",
   "name": "python3"
  },
  "language_info": {
   "codemirror_mode": {
    "name": "ipython",
    "version": 3
   },
   "file_extension": ".py",
   "mimetype": "text/x-python",
   "name": "python",
   "nbconvert_exporter": "python",
   "pygments_lexer": "ipython3",
   "version": "3.8.8"
  }
 },
 "nbformat": 4,
 "nbformat_minor": 5
}
