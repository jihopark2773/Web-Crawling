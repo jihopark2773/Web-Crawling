{
 "cells": [
  {
   "cell_type": "markdown",
   "id": "a5f9a299",
   "metadata": {},
   "source": [
    "### zigbang 원룸 매물 데이터 수집\n",
    "- 지역이름 > 매물정보 "
   ]
  },
  {
   "cell_type": "code",
   "execution_count": 1,
   "id": "5624ffaa",
   "metadata": {},
   "outputs": [],
   "source": [
    "import requests\n",
    "import pandas as pd"
   ]
  },
  {
   "cell_type": "code",
   "execution_count": null,
   "id": "b34a04c9",
   "metadata": {},
   "outputs": [],
   "source": [
    "# 1. 동이름 > 위도, 경도 "
   ]
  },
  {
   "cell_type": "code",
   "execution_count": 55,
   "id": "78effb83",
   "metadata": {},
   "outputs": [
    {
     "data": {
      "text/plain": [
       "'https://apis.zigbang.com/v2/search?leaseYn=N&q=서초구 서초동&serviceType=원룸'"
      ]
     },
     "execution_count": 55,
     "metadata": {},
     "output_type": "execute_result"
    }
   ],
   "source": [
    "url = 'https://apis.zigbang.com/v2/search?leaseYn=N&q=%EC%84%9C%EC%B4%88%EB%8F%99&serviceType=%EC%9B%90%EB%A3%B8'\n",
    "## https://meyerweb.com/eric/tools/dencoder/ (Decoding)\n",
    "address = '서초구 서초동'\n",
    "url = f'https://apis.zigbang.com/v2/search?leaseYn=N&q={address}&serviceType=원룸'\n",
    "url"
   ]
  },
  {
   "cell_type": "code",
   "execution_count": 56,
   "id": "3a7ca267",
   "metadata": {},
   "outputs": [
    {
     "data": {
      "text/plain": [
       "<Response [200]>"
      ]
     },
     "execution_count": 56,
     "metadata": {},
     "output_type": "execute_result"
    }
   ],
   "source": [
    "response = requests.get(url)\n",
    "response"
   ]
  },
  {
   "cell_type": "code",
   "execution_count": 57,
   "id": "f5e2f216",
   "metadata": {},
   "outputs": [
    {
     "data": {
      "text/plain": [
       "(37.49008560180664, 127.01953125)"
      ]
     },
     "execution_count": 57,
     "metadata": {},
     "output_type": "execute_result"
    }
   ],
   "source": [
    "address_data = response.json()['items'][0]\n",
    "lat, lng = address_data['lat'], address_data['lng']\n",
    "lat, lng"
   ]
  },
  {
   "cell_type": "code",
   "execution_count": 47,
   "id": "040a2eb4",
   "metadata": {},
   "outputs": [],
   "source": [
    "# 2. 위도, 경도 > geohash\n",
    "# pip install geohash2"
   ]
  },
  {
   "cell_type": "code",
   "execution_count": 18,
   "id": "68d6e334",
   "metadata": {},
   "outputs": [
    {
     "name": "stdout",
     "output_type": "stream",
     "text": [
      "Requirement already satisfied: geohash2 in c:\\programdata\\anaconda3\\lib\\site-packages (1.1)\n",
      "Requirement already satisfied: docutils>=0.3 in c:\\programdata\\anaconda3\\lib\\site-packages (from geohash2) (0.17)\n"
     ]
    }
   ],
   "source": [
    "!pip install geohash2\n",
    "import geohash2"
   ]
  },
  {
   "cell_type": "code",
   "execution_count": 58,
   "id": "4c0393d9",
   "metadata": {},
   "outputs": [
    {
     "data": {
      "text/plain": [
       "'wydm6'"
      ]
     },
     "execution_count": 58,
     "metadata": {},
     "output_type": "execute_result"
    }
   ],
   "source": [
    "# precision이 작아질수록 더 넓은 영역을 의미\n",
    "geohash = geohash2.encode(lat, lng, precision=5)\n",
    "geohash"
   ]
  },
  {
   "cell_type": "code",
   "execution_count": null,
   "id": "b763e9e4",
   "metadata": {},
   "outputs": [],
   "source": [
    "# 3. geohash > item_ids"
   ]
  },
  {
   "cell_type": "code",
   "execution_count": 59,
   "id": "075b7231",
   "metadata": {},
   "outputs": [
    {
     "data": {
      "text/plain": [
       "<Response [200]>"
      ]
     },
     "execution_count": 59,
     "metadata": {},
     "output_type": "execute_result"
    }
   ],
   "source": [
    "url = 'https://apis.zigbang.com/v2/items?＼deposit_gteq=0&domain=zigbang&geohash=wydm4&needHasNoFiltered=true&rent_gteq=0&sales_type_in=%EC%A0%84%EC%84%B8%7C%EC%9B%94%EC%84%B8&service_type_eq=%EC%9B%90%EB%A3%B8'\n",
    "## https://meyerweb.com/eric/tools/dencoder/ (Decoding)\n",
    "url = f'https://apis.zigbang.com/v2/items?deposit_gteq=0&domain=zigbang&geohash={geohash}&needHasNoFiltered=true&rent_gteq=0&sales_type_in=전세|월세&service_type_eq=원룸'\n",
    "\n",
    "response = requests.get(url)\n",
    "response"
   ]
  },
  {
   "cell_type": "code",
   "execution_count": 60,
   "id": "6aa8084b",
   "metadata": {},
   "outputs": [
    {
     "data": {
      "text/plain": [
       "(2332, [28387350, 29108819, 29157107, 29179449, 29211706])"
      ]
     },
     "execution_count": 60,
     "metadata": {},
     "output_type": "execute_result"
    }
   ],
   "source": [
    "data = response.json()['items']\n",
    "# item_id = []\n",
    "# for i in data:\n",
    "#     item_id.append(i['item_id'])\n",
    "# len(item_id), item_id[:5]\n",
    "\n",
    "item_id =  [i['item_id'] for i in data]\n",
    "len(item_id), item_id[:5]"
   ]
  },
  {
   "cell_type": "code",
   "execution_count": 38,
   "id": "c50ab899",
   "metadata": {},
   "outputs": [
    {
     "data": {
      "text/plain": [
       "[1, 4, 9, 16, 25]"
      ]
     },
     "execution_count": 38,
     "metadata": {},
     "output_type": "execute_result"
    }
   ],
   "source": [
    "#list comprehension\n",
    "ls = [1, 2, 3, 4, 5]\n",
    "result = []\n",
    "for data in ls:\n",
    "    result.append(data**2)\n",
    "result"
   ]
  },
  {
   "cell_type": "code",
   "execution_count": 40,
   "id": "bdbae14f",
   "metadata": {},
   "outputs": [
    {
     "data": {
      "text/plain": [
       "[1, 9, 25]"
      ]
     },
     "execution_count": 40,
     "metadata": {},
     "output_type": "execute_result"
    }
   ],
   "source": [
    "result = [data**2 for data in ls if data % 2]\n",
    "result"
   ]
  },
  {
   "cell_type": "code",
   "execution_count": null,
   "id": "74359f15",
   "metadata": {},
   "outputs": [],
   "source": [
    "# 4. item_ids > item info : POST"
   ]
  },
  {
   "cell_type": "code",
   "execution_count": 64,
   "id": "be00f6b6",
   "metadata": {},
   "outputs": [
    {
     "data": {
      "text/plain": [
       "<Response [500]>"
      ]
     },
     "execution_count": 64,
     "metadata": {},
     "output_type": "execute_result"
    }
   ],
   "source": [
    "url = 'https://apis.zigbang.com/v2/items/list'\n",
    "params = {\n",
    "    \"domain\": \"zigbang\", \n",
    "    \"withCoalition\": 'true',\n",
    "    \"item_ids\" : item_id\n",
    "}\n",
    "response = requests.post(url, params)\n",
    "response"
   ]
  },
  {
   "cell_type": "code",
   "execution_count": 52,
   "id": "b5b2989c",
   "metadata": {},
   "outputs": [
    {
     "data": {
      "text/plain": [
       "'{\"name\":\"PayloadTooLargeError\",\"code\":500,\"message\":null}'"
      ]
     },
     "execution_count": 52,
     "metadata": {},
     "output_type": "execute_result"
    }
   ],
   "source": [
    "response.text"
   ]
  },
  {
   "cell_type": "code",
   "execution_count": null,
   "id": "c96e8d8c",
   "metadata": {},
   "outputs": [],
   "source": []
  }
 ],
 "metadata": {
  "kernelspec": {
   "display_name": "Python 3",
   "language": "python",
   "name": "python3"
  },
  "language_info": {
   "codemirror_mode": {
    "name": "ipython",
    "version": 3
   },
   "file_extension": ".py",
   "mimetype": "text/x-python",
   "name": "python",
   "nbconvert_exporter": "python",
   "pygments_lexer": "ipython3",
   "version": "3.8.8"
  }
 },
 "nbformat": 4,
 "nbformat_minor": 5
}
